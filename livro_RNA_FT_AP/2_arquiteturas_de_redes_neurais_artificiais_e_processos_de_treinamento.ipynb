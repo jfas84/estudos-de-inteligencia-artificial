{
  "nbformat": 4,
  "nbformat_minor": 0,
  "metadata": {
    "colab": {
      "provenance": [],
      "authorship_tag": "ABX9TyMHJuvb4uwZmjZOQvUXUhxR",
      "include_colab_link": true
    },
    "kernelspec": {
      "name": "python3",
      "display_name": "Python 3"
    },
    "language_info": {
      "name": "python"
    }
  },
  "cells": [
    {
      "cell_type": "markdown",
      "metadata": {
        "id": "view-in-github",
        "colab_type": "text"
      },
      "source": [
        "<a href=\"https://colab.research.google.com/github/jfas84/estudos-de-inteligencia-artificial/blob/main/livro_RNA_FT_AP/2_arquiteturas_de_redes_neurais_artificiais_e_processos_de_treinamento.ipynb\" target=\"_parent\"><img src=\"https://colab.research.google.com/assets/colab-badge.svg\" alt=\"Open In Colab\"/></a>"
      ]
    },
    {
      "cell_type": "markdown",
      "source": [
        "# INTRODUÇÃO\n",
        "\n",
        "A arquitetura de uma rede neural define a forma dos arranjos dos seus neurônios.\n",
        "\n",
        "Esses arranjos são essencialmente estruturados através do direcionamento das coneções sinápticas dos neurônios.\n",
        "\n",
        "O treinamento de uma arquitetura específica consiste da aplicação de um conjunto de passos ordenados com o intuito de ajustar os pesos e os limiares de seus neurônios. Tal processo de ajuste, também conhecido como algoritmo de aprendizagem, visa então sintonizar a rede para que as suas respostas estejam próximas dos valores desejados. "
      ],
      "metadata": {
        "id": "0jkyZ8LzD0oN"
      }
    },
    {
      "cell_type": "code",
      "execution_count": null,
      "metadata": {
        "id": "-jb0xW6JDRX8"
      },
      "outputs": [],
      "source": []
    }
  ]
}