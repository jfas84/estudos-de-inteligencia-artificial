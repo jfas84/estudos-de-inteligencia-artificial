{
  "nbformat": 4,
  "nbformat_minor": 0,
  "metadata": {
    "colab": {
      "provenance": [],
      "include_colab_link": true
    },
    "kernelspec": {
      "name": "python3",
      "display_name": "Python 3"
    }
  },
  "cells": [
    {
      "cell_type": "markdown",
      "metadata": {
        "id": "view-in-github",
        "colab_type": "text"
      },
      "source": [
        "<a href=\"https://colab.research.google.com/github/jfas84/estudos-de-inteligencia-artificial/blob/main/curso-IA/python-basico/12_exerc%C3%ADcios_fun%C3%A7%C3%B5es.ipynb\" target=\"_parent\"><img src=\"https://colab.research.google.com/assets/colab-badge.svg\" alt=\"Open In Colab\"/></a>"
      ]
    },
    {
      "cell_type": "markdown",
      "metadata": {
        "id": "c9BudZ2gNE2n"
      },
      "source": [
        "# Exercício 1\n",
        "\n",
        "Ler uma temperatura em graus Celsius e apresentá-la convertida em graus Fahrenheit. A fórmula de conversão é F = (9 * C + 160) / 5, na qual F é a temperatura em Fahrenheit e C é a temperatura em graus Celsius\n",
        "- Função para ler e retorna o valor da temperatura (não recebe parâmetro)\n",
        "- Função para fazer o cálculo (recebe como parâmetro a temperatura em graus Celsius)\n",
        "- Função para mostrar o resultado, recebendo como parâmetro o valor e fazendo a impressão\n"
      ]
    },
    {
      "cell_type": "code",
      "metadata": {
        "id": "SVlPSs0oS1XU"
      },
      "source": [
        "def ler_temperatura():\n",
        "  temperatura = float(input('Digite a temperatura em graus Celsius: '))\n",
        "  return temperatura"
      ],
      "execution_count": null,
      "outputs": []
    },
    {
      "cell_type": "code",
      "metadata": {
        "id": "nG8uZCHWd6z0"
      },
      "source": [
        "def converter(temperatura_celsius):\n",
        "  temperatura_f = (9 * temperatura_celsius + 160) / 5\n",
        "  return temperatura_f"
      ],
      "execution_count": null,
      "outputs": []
    },
    {
      "cell_type": "code",
      "metadata": {
        "id": "byzWkAl0eG3X"
      },
      "source": [
        "def mostrar(temperatura_f):\n",
        "  print(temperatura_f)"
      ],
      "execution_count": null,
      "outputs": []
    },
    {
      "cell_type": "code",
      "metadata": {
        "id": "I4JsEBXLeSUI",
        "colab": {
          "base_uri": "https://localhost:8080/",
          "height": 50
        },
        "outputId": "2bc1ae5b-8a84-484a-e485-1a0c7eaa54b9"
      },
      "source": [
        "temperatura_c = ler_temperatura()\n",
        "temperatura_f = converter(temperatura_c)\n",
        "mostrar(temperatura_f)"
      ],
      "execution_count": null,
      "outputs": [
        {
          "output_type": "stream",
          "text": [
            "Digite a temperatura em graus Celsius: 20\n",
            "68.0\n"
          ],
          "name": "stdout"
        }
      ]
    },
    {
      "cell_type": "markdown",
      "source": [
        "Resposta comentada:\n",
        "\n",
        "Poderia ter sido realizada uma única função que recebe um parâmetro e retorna os dados desse parâmentro, poreḿ para fins didáticos é foi importante utilizar as funções de forma separada.\n",
        "\n",
        "Para passar os dados foram criadas variáveis que seriam utilizadas para as outras funções.\n",
        "\n",
        "a variável temperatura_c foi passada dentro da função converter e por sua vez a temperatura_f foi passada dentro da função mostrar.\n"
      ],
      "metadata": {
        "id": "UvwsM2rRP4u9"
      }
    },
    {
      "cell_type": "code",
      "source": [
        "# Função única\n",
        "def converterTemperatura(temperatura):\n",
        "  a = (9 * temperatura + 160) / 5\n",
        "  return a\n",
        "\n"
      ],
      "metadata": {
        "id": "K8pJ3zyRUOIA"
      },
      "execution_count": null,
      "outputs": []
    },
    {
      "cell_type": "code",
      "source": [
        "b = converterTemperatura(float(input('Digite a temperatura em graus Celsius: ')))\n",
        "print(b)"
      ],
      "metadata": {
        "colab": {
          "base_uri": "https://localhost:8080/"
        },
        "id": "65xcmdURU0nr",
        "outputId": "c503cdf5-77de-42c3-964f-25bc37e8c4d6"
      },
      "execution_count": null,
      "outputs": [
        {
          "output_type": "stream",
          "name": "stdout",
          "text": [
            "Digite a temperatura em graus Celsius: 20\n",
            "68.0\n"
          ]
        }
      ]
    },
    {
      "cell_type": "markdown",
      "source": [
        "Nesta função única faço todo o cálculo retornando uma variável a.\n",
        "\n",
        "Atribuo a variável b para receber o retorno da função e imprimo a variável b."
      ],
      "metadata": {
        "id": "-Oo_MD40VcLR"
      }
    },
    {
      "cell_type": "markdown",
      "metadata": {
        "id": "-44bufKRbeBf"
      },
      "source": [
        "# Exercício 2\n",
        "\n",
        "Efetuar o cálculo da quantidade de litros de combustível gasto em uma viagem, utilizando um automóvel que faz 12 Km por litro. Para obter o cálculo, o usuário deve fornecer o tempo gasto na viagem e a velocidade média durante ela. Desta forma, será possível obter a distância percorrida com a fórmula DISTANCIA = TEMPO * VELOCIDADE. Tendo o valor da distância, basta calcular a quantidade de litros de combustível utilizada na viagem, com a fórmula: LITROS_USADOS = DISTANCIA / 12. O programa deve apresentar os valores da velocidade média, tempo gasto na viagem, a distância percorrida e a quantidade de litros utilizada na viagem\n",
        "- Função para ler os valores (não recebe parâmetro e retorna os dois valores)\n",
        "- Função para calcular a distância (recebe como parâmetro o tempo e a velocidade e retorna a distância)\n",
        "- Função para calcular a quantidade de litros (recebe como parâmetro a distância e retorna os litros)\n",
        "- Função para apresentar o resultado (recebe como parâmetro os valores e somente imprime o resultado)"
      ]
    },
    {
      "cell_type": "code",
      "metadata": {
        "id": "GxlRNd_meyJA"
      },
      "source": [
        "def leitura():\n",
        "  tempo = float(input('Digite o tempo da viagem: '))\n",
        "  velocidade = float(input('Digite a velocidade média: '))\n",
        "  return tempo, velocidade"
      ],
      "execution_count": null,
      "outputs": []
    },
    {
      "cell_type": "code",
      "metadata": {
        "id": "GqJx1tabfWhA"
      },
      "source": [
        "def calcula_distancia(tempo, velocidade):\n",
        "  return tempo * velocidade"
      ],
      "execution_count": null,
      "outputs": []
    },
    {
      "cell_type": "code",
      "metadata": {
        "id": "ns5EY4mkfdAx"
      },
      "source": [
        "def calcula_litros(distancia):\n",
        "  return distancia / 12"
      ],
      "execution_count": null,
      "outputs": []
    },
    {
      "cell_type": "code",
      "metadata": {
        "id": "TlebFchzfiQH"
      },
      "source": [
        "def imprime(velocidade, tempo, distancia, litros):\n",
        "  print('Velocidade:', velocidade)\n",
        "  print('Tempo:', tempo)\n",
        "  print('Distância:', distancia)\n",
        "  print('Litros:', litros)"
      ],
      "execution_count": null,
      "outputs": []
    },
    {
      "cell_type": "code",
      "metadata": {
        "id": "bOEk5jeAfmXL",
        "colab": {
          "base_uri": "https://localhost:8080/",
          "height": 118
        },
        "outputId": "9df9ceb3-52c9-4ead-9c6b-ee611db4157a"
      },
      "source": [
        "t, v = leitura()\n",
        "d = calcula_distancia(t, v)\n",
        "l = calcula_litros(d)\n",
        "imprime(v, t, d, l)"
      ],
      "execution_count": null,
      "outputs": [
        {
          "output_type": "stream",
          "text": [
            "Digite o tempo da viagem: 2\n",
            "Digite a velocidade média: 80\n",
            "Velocidade: 80.0\n",
            "Tempo: 2.0\n",
            "Distância: 160.0\n",
            "Litros: 13.333333333333334\n"
          ],
          "name": "stdout"
        }
      ]
    },
    {
      "cell_type": "markdown",
      "source": [
        "Resposta Comentada:\n",
        "\n",
        "Neste exercício crio as 4 funções de forma individual, mas para um treinamento e os parâmetros são passados para as funções de forma que uma o recebimento de uma variável seja o parâmentro da função seguinte, encadeando as chamadas de função."
      ],
      "metadata": {
        "id": "ZZiXlIXNTvG4"
      }
    },
    {
      "cell_type": "code",
      "source": [
        "# Função única\n",
        "def viagem():\n",
        "  \"\"\"\n",
        "  Função solicita ao usuário dois parâmentros, tempo e velocidade.\n",
        "  Calcula a distância com os dados obtidos.\n",
        "  Calcula o consumo em litros.\n",
        "  Imprime os valores\n",
        "  \"\"\"\n",
        "  tempo = float(input('Digite o tempo da viagem: '))\n",
        "  velocidade = float(input('Digite a velocidade média: '))\n",
        "  distancia = tempo * velocidade\n",
        "  consumo = distancia / 12\n",
        "  print('Velocidade:', velocidade)\n",
        "  print('Tempo:', tempo)\n",
        "  print('Distância:', distancia)\n",
        "  print('Litros:', consumo)\n"
      ],
      "metadata": {
        "id": "Hu0mwRoFWANI"
      },
      "execution_count": null,
      "outputs": []
    },
    {
      "cell_type": "code",
      "source": [
        "viagem()"
      ],
      "metadata": {
        "colab": {
          "base_uri": "https://localhost:8080/"
        },
        "id": "NYr-eLa7W9q7",
        "outputId": "24c39da8-45e0-4850-f412-f697808af115"
      },
      "execution_count": null,
      "outputs": [
        {
          "output_type": "stream",
          "name": "stdout",
          "text": [
            "Digite o tempo da viagem: 5\n",
            "Digite a velocidade média: 60\n",
            "Velocidade: 60.0\n",
            "Tempo: 5.0\n",
            "Distância: 300.0\n",
            "Litros: 25.0\n"
          ]
        }
      ]
    },
    {
      "cell_type": "markdown",
      "source": [
        "Segue o resultado da função única."
      ],
      "metadata": {
        "id": "eoryw7v6XUh4"
      }
    },
    {
      "cell_type": "markdown",
      "source": [
        "# Exercício 4\n",
        "\n",
        "Escrever uma função que retorne o maior de dois números."
      ],
      "metadata": {
        "id": "xuBAc-YAt2pR"
      }
    },
    {
      "cell_type": "code",
      "source": [
        "def maximo(a, b):\n",
        "  x = max(a, b)\n",
        "  print(x)\n",
        "\n",
        "# Há uma função chamada min() que passa dois números ou mais que retorna o menor deles.\n",
        "# Há uma função chamada max() que passa dois números ou mais que retorna o maior deles."
      ],
      "metadata": {
        "id": "jm8q5y7-uDSW"
      },
      "execution_count": 4,
      "outputs": []
    },
    {
      "cell_type": "code",
      "source": [
        "maximo(8, 10)"
      ],
      "metadata": {
        "colab": {
          "base_uri": "https://localhost:8080/"
        },
        "id": "yh0KwFG9wnx3",
        "outputId": "65e80bf8-8d34-4081-8070-4ffb4376d877"
      },
      "execution_count": 5,
      "outputs": [
        {
          "output_type": "stream",
          "name": "stdout",
          "text": [
            "10\n"
          ]
        }
      ]
    },
    {
      "cell_type": "markdown",
      "source": [
        "# Exercício 5\n",
        "\n",
        "Escreva uma função que receba o lado de um quadrado e retorne sua área (A = lado²)."
      ],
      "metadata": {
        "id": "5j4BoRZ_wGhv"
      }
    },
    {
      "cell_type": "code",
      "source": [
        "def areaQuadrado(lado):\n",
        "  \"\"\"\n",
        "  Função recebe o tamanho do lado de \n",
        "  um quadrado e retorna a sua área no formato\n",
        "  de impressão.\n",
        "  \"\"\"\n",
        "  area = lado ** 2\n",
        "  print(area)\n"
      ],
      "metadata": {
        "id": "xn8iT5IAwWrz"
      },
      "execution_count": 6,
      "outputs": []
    },
    {
      "cell_type": "code",
      "source": [
        "help(areaQuadrado)"
      ],
      "metadata": {
        "colab": {
          "base_uri": "https://localhost:8080/"
        },
        "id": "X8esbnYww_da",
        "outputId": "c03e5eec-3a33-48f2-bdfd-7e9cc73d7c16"
      },
      "execution_count": 10,
      "outputs": [
        {
          "output_type": "stream",
          "name": "stdout",
          "text": [
            "Help on function areaQuadrado in module __main__:\n",
            "\n",
            "areaQuadrado(lado)\n",
            "    Função recebe o tamanho do lado de \n",
            "    um quadrado e retorna a sua área no formato\n",
            "    de impressão.\n",
            "\n"
          ]
        }
      ]
    },
    {
      "cell_type": "code",
      "source": [
        "areaQuadrado(6)"
      ],
      "metadata": {
        "colab": {
          "base_uri": "https://localhost:8080/"
        },
        "id": "6SuX763mxTHU",
        "outputId": "8ba4aca5-4438-4483-fbfd-d587120aec4b"
      },
      "execution_count": 11,
      "outputs": [
        {
          "output_type": "stream",
          "name": "stdout",
          "text": [
            "36\n"
          ]
        }
      ]
    },
    {
      "cell_type": "markdown",
      "source": [
        "# Exercício 7\n",
        "\n",
        "Escreva uma função que receba a base e a altura de um triângulo e retorne a sua área (A = (base x altura) /2)."
      ],
      "metadata": {
        "id": "p5pcNZwGxYDR"
      }
    },
    {
      "cell_type": "code",
      "source": [
        "def areaTriangulo(b, a):\n",
        "  \"\"\"\n",
        "  Função que calcula a área de um triângulo.\n",
        "  Recebe dois parâmetros a base \"b\" e a altura \"a\".\n",
        "  \"\"\"\n",
        "  area = (b * a) / 2\n",
        "  print(area)"
      ],
      "metadata": {
        "id": "1_Ee_VBMxmsH"
      },
      "execution_count": 12,
      "outputs": []
    },
    {
      "cell_type": "code",
      "source": [
        "help(areaTriangulo)"
      ],
      "metadata": {
        "colab": {
          "base_uri": "https://localhost:8080/"
        },
        "id": "o5f17D1Xx4ke",
        "outputId": "c4fd22d8-3206-47d3-8f0a-174c114fa3e1"
      },
      "execution_count": 13,
      "outputs": [
        {
          "output_type": "stream",
          "name": "stdout",
          "text": [
            "Help on function areaTriangulo in module __main__:\n",
            "\n",
            "areaTriangulo(b, a)\n",
            "    Função que calcula a área de um triângulo.\n",
            "    Recebe dois parâmetros a base \"b\" e a altura \"a\".\n",
            "\n"
          ]
        }
      ]
    },
    {
      "cell_type": "code",
      "source": [
        "areaTriangulo(6, 9)"
      ],
      "metadata": {
        "colab": {
          "base_uri": "https://localhost:8080/"
        },
        "id": "pYensFqsyJu2",
        "outputId": "bba5c2b3-5ff7-44db-82ff-b1e7c8a3d5e4"
      },
      "execution_count": 14,
      "outputs": [
        {
          "output_type": "stream",
          "name": "stdout",
          "text": [
            "27.0\n"
          ]
        }
      ]
    },
    {
      "cell_type": "markdown",
      "source": [
        "# Exercício 8\n",
        "\n",
        "Escreva uma função que receba uma lista e um valor, esse valor deve ser pesquisado na lista, caso haja o valor retorne a sua posição, caso não exista o valor na lista retorne que não existe."
      ],
      "metadata": {
        "id": "14NXjJ7vyYln"
      }
    },
    {
      "cell_type": "code",
      "source": [
        "def pesquisaLista(lista, valor):\n",
        "  \"\"\"\n",
        "  A função pesquisa numa lista se existe determinado valor.\n",
        "  Para isso uso a função enumerate() que cria os indices da lista.\n",
        "  Passo o laço for indicando que o \"x\" é o índice e o \"e\" são os valores.\n",
        "  O laço percorre verificando se \"e\" é igual ao valor, caso seja retorna o índice.\n",
        "  Caso não seja retorna None.\n",
        "  \"\"\"\n",
        "  for x, e in enumerate(lista):\n",
        "    if e == valor:\n",
        "      return x\n",
        "  return None"
      ],
      "metadata": {
        "id": "iVE46H_ty0NJ"
      },
      "execution_count": 19,
      "outputs": []
    },
    {
      "cell_type": "code",
      "source": [
        "help(pesquisaLista)"
      ],
      "metadata": {
        "colab": {
          "base_uri": "https://localhost:8080/"
        },
        "id": "Gi8uZbrL0J9R",
        "outputId": "e9940b9c-271d-42df-c9fb-dbdf5f0a7e1b"
      },
      "execution_count": 17,
      "outputs": [
        {
          "output_type": "stream",
          "name": "stdout",
          "text": [
            "Help on function pesquisaLista in module __main__:\n",
            "\n",
            "pesquisaLista(lista, valor)\n",
            "    A função pesquisa numa lista se existe determinado valor.\n",
            "    Para isso uso a função enumerate() que cria os indices da lista.\n",
            "    Passo o laço for indicando que o \"x\" é o índice e o \"e\" são os valores.\n",
            "    O laço percorre verificando se \"e\" é igual ao valor, caso seja retorna o índice.\n",
            "    Caso não seja retorna None.\n",
            "\n"
          ]
        }
      ]
    },
    {
      "cell_type": "code",
      "source": [
        "L = [10, 20, 25, 30]\n",
        "print(pesquisaLista(L, 25))\n",
        "print(pesquisaLista(L, 27))"
      ],
      "metadata": {
        "colab": {
          "base_uri": "https://localhost:8080/"
        },
        "id": "nnBUJ98H0O8J",
        "outputId": "105258a2-2c2c-483f-92fe-0cbb19c3a275"
      },
      "execution_count": 20,
      "outputs": [
        {
          "output_type": "stream",
          "name": "stdout",
          "text": [
            "2\n",
            "None\n"
          ]
        }
      ]
    },
    {
      "cell_type": "markdown",
      "source": [
        "# Exercício 9\n",
        "\n",
        "Escreva uma função que calcula a média dos valores que estão em uma lista qualquer."
      ],
      "metadata": {
        "id": "tOKoueUF1I7-"
      }
    },
    {
      "cell_type": "code",
      "source": [
        "def calcularMediaLista(lista):\n",
        "  \"\"\"\n",
        "  A função recebe uma lista qualquer de números.\n",
        "  A variável total foi criada para receber a soma dos números da lista.\n",
        "  Foi feito um laço que percorre os dados da lista adicionando-os a variável total.\n",
        "  Retorna a divisão da variável total com a quantidade de números da lista.\n",
        "  \"\"\"\n",
        "  # Variável que receberá a soma\n",
        "  total = 0\n",
        "  # Laço que percorrerá a lista e somará na variável total.\n",
        "  for x in lista:\n",
        "    total += x\n",
        "    # retorno da divisão da variável total com a quantidade de variáveis existentes na lista.\n",
        "  return total / len(lista)"
      ],
      "metadata": {
        "id": "8lv778qx1WEG"
      },
      "execution_count": 8,
      "outputs": []
    },
    {
      "cell_type": "code",
      "source": [
        "help(calcularMediaLista)"
      ],
      "metadata": {
        "colab": {
          "base_uri": "https://localhost:8080/"
        },
        "id": "syFqIzPE2h-V",
        "outputId": "02818f35-1fb1-49c8-8053-d5c8f009666b"
      },
      "execution_count": 22,
      "outputs": [
        {
          "output_type": "stream",
          "name": "stdout",
          "text": [
            "Help on function calcularMediaLista in module __main__:\n",
            "\n",
            "calcularMediaLista(lista)\n",
            "    A função recebe uma lista qualquer de números.\n",
            "    A variável total foi criada para receber a soma dos números da lista.\n",
            "    Foi feito um laço que percorre os dados da lista adicionando-os a variável total.\n",
            "    Retorna a divisão da variável total com a quantidade de números da lista.\n",
            "\n"
          ]
        }
      ]
    },
    {
      "cell_type": "code",
      "source": [
        "l = [10, 20, 25, 30]\n",
        "print(calcularMediaLista(l))"
      ],
      "metadata": {
        "colab": {
          "base_uri": "https://localhost:8080/"
        },
        "id": "1RrSG-uO2nDO",
        "outputId": "dd5eb62f-e794-4e2e-fa6f-13f8d9404936"
      },
      "execution_count": 9,
      "outputs": [
        {
          "output_type": "stream",
          "name": "stdout",
          "text": [
            "21.25\n"
          ]
        }
      ]
    }
  ]
}