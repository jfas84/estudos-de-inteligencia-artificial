{
  "nbformat": 4,
  "nbformat_minor": 0,
  "metadata": {
    "colab": {
      "provenance": [],
      "include_colab_link": true
    },
    "kernelspec": {
      "name": "python3",
      "display_name": "Python 3"
    }
  },
  "cells": [
    {
      "cell_type": "markdown",
      "metadata": {
        "id": "view-in-github",
        "colab_type": "text"
      },
      "source": [
        "<a href=\"https://colab.research.google.com/github/jfas84/estudos-de-inteligencia-artificial/blob/main/curso-IA/python-basico/18_orientacao_a_objetos.ipynb\" target=\"_parent\"><img src=\"https://colab.research.google.com/assets/colab-badge.svg\" alt=\"Open In Colab\"/></a>"
      ]
    },
    {
      "cell_type": "markdown",
      "metadata": {
        "id": "QlFTfgKfdo2h"
      },
      "source": [
        "# Orientação a Objetos\n",
        "\n",
        "Agrupamento de objetos similares que apresetam os mesmos atributos e métodos\n",
        "\n"
      ]
    },
    {
      "cell_type": "code",
      "metadata": {
        "id": "6F0oISzgwJZx"
      },
      "source": [
        "# A classe triangulo recebe todos os dados de um triângulo que é sua base\n",
        "# posteriormente é possível criar vários objetos dentro de uma mesma classe\n",
        "\n",
        "\n",
        "class Triangulo:\n",
        "  # a palavra reservada self informa que estamos criando uma característica da classe.\n",
        "  # a função __init___ é o construtor da classe.\n",
        "  def __init__(self, lado1, lado2, lado3, base, altura):\n",
        "    self.lado1 = lado1\n",
        "    self.lado2 = lado2\n",
        "    self.lado3 = lado3\n",
        "    self.base = base\n",
        "    self.altura = altura\n",
        "  \n",
        "  def area(self):\n",
        "    return (self.base * self.altura) / 2\n",
        "\n",
        "  def tipo(self):\n",
        "    if self.lado1 > self.lado2 + self.lado3:\n",
        "      return 'não é um triângulo'\n",
        "    elif self.lado1 == self.lado2 or self.lado1 == self.lado3 or self.lado1 == self.lado2:\n",
        "      return 'triângulo isósceles'\n",
        "    else:\n",
        "      return 'outro tipo de triângulo'"
      ],
      "execution_count": null,
      "outputs": []
    },
    {
      "cell_type": "code",
      "metadata": {
        "id": "SDq4Y5ZDwx8c"
      },
      "source": [
        "t1 = Triangulo(5, 1, 3, 4, 3)"
      ],
      "execution_count": null,
      "outputs": []
    },
    {
      "cell_type": "code",
      "metadata": {
        "id": "hq763UNxxApW",
        "colab": {
          "base_uri": "https://localhost:8080/",
          "height": 34
        },
        "outputId": "95449788-b2a6-421e-a73a-7a7d65a4f52a"
      },
      "source": [
        "print(t1.lado1, t1.lado2, t1.lado3, t1.base, t1.altura)"
      ],
      "execution_count": null,
      "outputs": [
        {
          "output_type": "stream",
          "text": [
            "2 1 3 4 3\n"
          ],
          "name": "stdout"
        }
      ]
    },
    {
      "cell_type": "code",
      "metadata": {
        "id": "OzOP8kKPyKus",
        "colab": {
          "base_uri": "https://localhost:8080/",
          "height": 34
        },
        "outputId": "c549f734-a066-43f5-cba6-63aa005fbe41"
      },
      "source": [
        "t1.area()"
      ],
      "execution_count": null,
      "outputs": [
        {
          "output_type": "execute_result",
          "data": {
            "text/plain": [
              "6.0"
            ]
          },
          "metadata": {
            "tags": []
          },
          "execution_count": 23
        }
      ]
    },
    {
      "cell_type": "code",
      "metadata": {
        "id": "YcGAuLMEzCx-",
        "colab": {
          "base_uri": "https://localhost:8080/",
          "height": 35
        },
        "outputId": "f2edf208-5a94-4754-b1d4-1c5f8baae536"
      },
      "source": [
        "t1.tipo()"
      ],
      "execution_count": null,
      "outputs": [
        {
          "output_type": "execute_result",
          "data": {
            "application/vnd.google.colaboratory.intrinsic": {
              "type": "string"
            },
            "text/plain": [
              "'não é um triângulo'"
            ]
          },
          "metadata": {
            "tags": []
          },
          "execution_count": 29
        }
      ]
    },
    {
      "cell_type": "code",
      "metadata": {
        "id": "3WRbsJ0sxJy-",
        "colab": {
          "base_uri": "https://localhost:8080/",
          "height": 34
        },
        "outputId": "1c2c2151-a5d0-4e8c-a9a8-36f366736e3d"
      },
      "source": [
        "t2 = Triangulo(8, 8, 8, 16, 9)\n",
        "print(t2.lado1, t2.lado2, t2.lado3, t2.base, t2.altura)"
      ],
      "execution_count": null,
      "outputs": [
        {
          "output_type": "stream",
          "text": [
            "8 8 8 16 9\n"
          ],
          "name": "stdout"
        }
      ]
    },
    {
      "cell_type": "code",
      "metadata": {
        "id": "iBlImwTXyWry",
        "colab": {
          "base_uri": "https://localhost:8080/",
          "height": 34
        },
        "outputId": "d71c69e8-4287-4438-964f-a7e0c21b7205"
      },
      "source": [
        "t2.area()"
      ],
      "execution_count": null,
      "outputs": [
        {
          "output_type": "execute_result",
          "data": {
            "text/plain": [
              "72.0"
            ]
          },
          "metadata": {
            "tags": []
          },
          "execution_count": 26
        }
      ]
    },
    {
      "cell_type": "code",
      "metadata": {
        "id": "K7aNze6dzG-8",
        "colab": {
          "base_uri": "https://localhost:8080/",
          "height": 35
        },
        "outputId": "c3a58066-a32c-44ec-b89b-2ac409824279"
      },
      "source": [
        "t2.tipo()"
      ],
      "execution_count": null,
      "outputs": [
        {
          "output_type": "execute_result",
          "data": {
            "application/vnd.google.colaboratory.intrinsic": {
              "type": "string"
            },
            "text/plain": [
              "'triângulo isósceles'"
            ]
          },
          "metadata": {
            "tags": []
          },
          "execution_count": 27
        }
      ]
    },
    {
      "cell_type": "markdown",
      "source": [
        "# Exercício 1\n",
        "\n",
        "Crie uma classe chamada aluno com os seguintes atributos:\n",
        "\n",
        "- Nome\n",
        "- Nota 1\n",
        "- Nota 2\n",
        "- Crie um construtor para a classe (__init__)\n",
        "\n",
        "Crie as seguintes funções (métodos):\n",
        "\n",
        "- Calcula média, retornando a média aritmética entre as notas\n",
        "- Mostra dados, que somente imprime o valor de todos os atributos\n",
        "- Resultado, que verifica se o aluno está aprovado ou reprovado (se a média for maior ou igual a 6.0, o aluno está aprovado)\n",
        "\n",
        "Crie dois objetos (aluno1 e aluno2) e teste as funções"
      ],
      "metadata": {
        "id": "yFk9ucMxBa7Q"
      }
    },
    {
      "cell_type": "code",
      "source": [
        "class Aluno:\n",
        "  def __init__(self, nome, nota1, nota2):\n",
        "    self.nome = nome\n",
        "    self.nota1 = nota1\n",
        "    self.nota2 = nota2\n",
        "    self.media = 0.0\n",
        "   \n",
        "  def calcula_media(self):\n",
        "    self.media = (self.nota1 + self.nota2) / 2\n",
        "    return self.media\n",
        "\n",
        "  def mostra_dados(self):\n",
        "    print('Nome: ', self.nome)\n",
        "    print('Nota 1:', self.nota1)\n",
        "    print('Nota 2:', self.nota2)\n",
        "    print('Média:', self.media)\n",
        "  \n",
        "  def resultado(self):\n",
        "    if self.media >= 6.0:\n",
        "      print('Aprovado')\n",
        "    else:\n",
        "      print('Reprovado')"
      ],
      "metadata": {
        "id": "QlJWEXIVBdGK"
      },
      "execution_count": null,
      "outputs": []
    },
    {
      "cell_type": "code",
      "source": [
        "aluno1 = Aluno('Pedro', 7.0, 9.0)\n",
        "media = aluno1.calcula_media()\n",
        "print(media)"
      ],
      "metadata": {
        "id": "yGqwDp-YBgFd"
      },
      "execution_count": null,
      "outputs": []
    },
    {
      "cell_type": "code",
      "source": [
        "aluno1.mostra_dados()"
      ],
      "metadata": {
        "id": "b3amyNvoBiR9"
      },
      "execution_count": null,
      "outputs": []
    },
    {
      "cell_type": "code",
      "source": [
        "aluno1.resultado()"
      ],
      "metadata": {
        "id": "H5p6nzTsBke-"
      },
      "execution_count": null,
      "outputs": []
    },
    {
      "cell_type": "code",
      "source": [
        "aluno2 = Aluno('João', 7.0, 2.0)\n",
        "media = aluno2.calcula_media()\n",
        "aluno2.mostra_dados()\n",
        "aluno2.resultado()"
      ],
      "metadata": {
        "id": "k5W7eemaBnAH"
      },
      "execution_count": null,
      "outputs": []
    }
  ]
}