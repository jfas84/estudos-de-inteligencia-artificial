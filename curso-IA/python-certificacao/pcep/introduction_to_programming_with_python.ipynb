{
  "nbformat": 4,
  "nbformat_minor": 0,
  "metadata": {
    "colab": {
      "provenance": [],
      "authorship_tag": "ABX9TyPGmqRyMF+rwWpfd/EKG+ZI",
      "include_colab_link": true
    },
    "kernelspec": {
      "name": "python3",
      "display_name": "Python 3"
    },
    "language_info": {
      "name": "python"
    }
  },
  "cells": [
    {
      "cell_type": "markdown",
      "metadata": {
        "id": "view-in-github",
        "colab_type": "text"
      },
      "source": [
        "<a href=\"https://colab.research.google.com/github/jfas84/estudos-de-inteligencia-artificial/blob/main/curso-IA/python-certificacao/pcep/introduction_to_programming_with_python.ipynb\" target=\"_parent\"><img src=\"https://colab.research.google.com/assets/colab-badge.svg\" alt=\"Open In Colab\"/></a>"
      ]
    },
    {
      "cell_type": "markdown",
      "source": [
        "# Compilation vs. interpretation\n",
        "\n",
        "There are two different ways of transforming a program from a high-level programming language into machine language:\n",
        "\n",
        "COMPILATION - the source program is translated once (however, this act must be repeated each time you modify the source code) by getting a file (e.g., an .exe file if the code is intended to be run under MS Windows) containing the machine code; now you can distribute the file worldwide; the program that performs this translation is called a compiler or translator;\n",
        "\n",
        "O compilador é uma espécie de tradutor. Transformando o código fonte compreensível para os computadores.\n",
        "\n",
        "INTERPRETATION - you (or any user of the code) can translate the source program each time it has to be run; the program performing this kind of transformation is called an interpreter, as it interprets the code every time it is intended to be executed; it also means that you cannot just distribute the source code as-is, because the end-user also needs the interpreter to execute it.\n",
        "\n",
        "O interpretador também pe uma espécie de tradutor, porém o interpretador e o compilador trabalham de formas diferentes.\n",
        "\n",
        "Due to some very fundamental reasons, a particular high-level programming language is designed to fall into one of these two categories.\n",
        "\n",
        "There are very few languages that can be both compiled and interpreted. Usually, a programming language is projected with this factor in its constructors' minds - will it be compiled or interpreted?\n",
        "\n",
        "1.1.1.5 Programming - absolute basics\n",
        "\n",
        "What does the interpreter actually do?"
      ],
      "metadata": {
        "id": "C4vEUrpuqJrO"
      }
    },
    {
      "cell_type": "code",
      "execution_count": null,
      "metadata": {
        "id": "0ffyIrwzRGSR"
      },
      "outputs": [],
      "source": []
    }
  ]
}