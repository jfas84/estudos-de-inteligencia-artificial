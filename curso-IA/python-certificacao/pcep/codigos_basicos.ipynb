{
  "nbformat": 4,
  "nbformat_minor": 0,
  "metadata": {
    "colab": {
      "provenance": [],
      "authorship_tag": "ABX9TyMuEecIB5mvHsQ5MCQTbexn",
      "include_colab_link": true
    },
    "kernelspec": {
      "name": "python3",
      "display_name": "Python 3"
    },
    "language_info": {
      "name": "python"
    }
  },
  "cells": [
    {
      "cell_type": "markdown",
      "metadata": {
        "id": "view-in-github",
        "colab_type": "text"
      },
      "source": [
        "<a href=\"https://colab.research.google.com/github/jfas84/estudos-de-inteligencia-artificial/blob/main/curso-IA/python-certificacao/pcep/codigos_basicos.ipynb\" target=\"_parent\"><img src=\"https://colab.research.google.com/assets/colab-badge.svg\" alt=\"Open In Colab\"/></a>"
      ]
    },
    {
      "cell_type": "markdown",
      "source": [
        "# Operadores e operações matemáticas"
      ],
      "metadata": {
        "id": "uhrOPo0YmkT7"
      }
    },
    {
      "cell_type": "code",
      "source": [
        "\"\"\"\n",
        "+ => Adição\n",
        "- => Subtração\n",
        "* => Multiplicação\n",
        "/ => Divisão (com resultado fracionário)\n",
        "// => Divisão (com resultados inteiros)\n",
        "% => Módulo ou resto\n",
        "** => Exponenciação ou potenciação\n",
        "\"\"\""
      ],
      "metadata": {
        "id": "6KGnKaQVne3G"
      },
      "execution_count": null,
      "outputs": []
    },
    {
      "cell_type": "code",
      "execution_count": null,
      "metadata": {
        "colab": {
          "base_uri": "https://localhost:8080/"
        },
        "id": "8Os3_CaPmY3m",
        "outputId": "34ec9d9b-6d35-4235-9d3f-5e962233d073"
      },
      "outputs": [
        {
          "output_type": "stream",
          "name": "stdout",
          "text": [
            "6\n"
          ]
        }
      ],
      "source": [
        "a = 2\n",
        "b = 4\n",
        "print(a + b)"
      ]
    },
    {
      "cell_type": "code",
      "source": [
        "salario = 1500\n",
        "aumento = 5\n",
        "\n",
        "print(salario + (salario * aumento / 100))"
      ],
      "metadata": {
        "colab": {
          "base_uri": "https://localhost:8080/"
        },
        "id": "BOU8X77yqMVR",
        "outputId": "2ed4f0f9-6da2-4d70-afae-7cccb47c2650"
      },
      "execution_count": null,
      "outputs": [
        {
          "output_type": "stream",
          "name": "stdout",
          "text": [
            "1575.0\n"
          ]
        }
      ]
    },
    {
      "cell_type": "markdown",
      "source": [
        "# Operadores relacionais"
      ],
      "metadata": {
        "id": "QUuGcV79quke"
      }
    },
    {
      "cell_type": "code",
      "source": [
        "\"\"\"\n",
        "== -> igualdade\n",
        ">  -> maior que\n",
        "<  -> menor que\n",
        "!= -> diferente\n",
        ">= -> maior ou igual\n",
        "<= -> menor ou igual \n",
        "\"\"\"\n",
        "a = 1     # A recebe 1\n",
        "a == b    # a é igual a b"
      ],
      "metadata": {
        "id": "PMIbHYJZqyTp"
      },
      "execution_count": null,
      "outputs": []
    },
    {
      "cell_type": "markdown",
      "source": [
        "# Operadores lógicos"
      ],
      "metadata": {
        "id": "wl7CukSztHba"
      }
    },
    {
      "cell_type": "code",
      "source": [
        "\"\"\"\n",
        "not -> não\n",
        "and -> e\n",
        "or  -> ou\n",
        "\"\"\""
      ],
      "metadata": {
        "id": "Y2TRliahtMf4"
      },
      "execution_count": null,
      "outputs": []
    },
    {
      "cell_type": "markdown",
      "source": [
        "# Variáveis string\n",
        "\n",
        "Para informar que o que estamos atribuindo a uma variável é uma string devemos passar ela dentro de aspas simples ou dupla."
      ],
      "metadata": {
        "id": "eZDRAZd3v498"
      }
    },
    {
      "cell_type": "code",
      "source": [
        "a = \"jorge\"\n",
        "b = 'sofia'\n",
        "\n",
        "print(a)\n",
        "print(b)"
      ],
      "metadata": {
        "colab": {
          "base_uri": "https://localhost:8080/"
        },
        "id": "nWeXPYQ_xorb",
        "outputId": "07ba5e2c-8fdd-4db0-eac3-ecbfc7691d30"
      },
      "execution_count": null,
      "outputs": [
        {
          "output_type": "stream",
          "name": "stdout",
          "text": [
            "jorge\n",
            "sofia\n"
          ]
        }
      ]
    },
    {
      "cell_type": "markdown",
      "source": [
        "Cada letra dentro de uma string possui um índice, logo podemos acessar uma letra dentro de uma string, para isso devemos informar o seu índice.\n",
        "\n",
        "No exemplo abaixo, vou buscar a letra 'g' na variável a.\n",
        "\n",
        "Para isso passamos a variável seguida do abre colchete a posição da letra que queremos retornar e fechamos o colchete."
      ],
      "metadata": {
        "id": "1IcVqWLEzfgq"
      }
    },
    {
      "cell_type": "code",
      "source": [
        "print(a[3])"
      ],
      "metadata": {
        "colab": {
          "base_uri": "https://localhost:8080/"
        },
        "id": "Sc-qejRjz6Lj",
        "outputId": "b3fb0c24-2080-4a23-c9ff-9aefd4d93687"
      },
      "execution_count": null,
      "outputs": [
        {
          "output_type": "stream",
          "name": "stdout",
          "text": [
            "g\n"
          ]
        }
      ]
    },
    {
      "cell_type": "markdown",
      "source": [
        "## Concatenação de strings\n",
        "\n",
        "Para concatenar strings usamos o operador de soma +\n",
        "\n",
        "No exemplo abaixo, atribuo a variável um grupo de string e depois concateno com outra variável."
      ],
      "metadata": {
        "id": "WEOIQS5W1L7A"
      }
    },
    {
      "cell_type": "code",
      "source": [
        "a = \"Jorge\"\n",
        "\n",
        "print(a + \"s\")"
      ],
      "metadata": {
        "colab": {
          "base_uri": "https://localhost:8080/"
        },
        "id": "ShVOdb-T1Oh-",
        "outputId": "068f307f-5595-4a8a-b0eb-842819ebde74"
      },
      "execution_count": null,
      "outputs": [
        {
          "output_type": "stream",
          "name": "stdout",
          "text": [
            "Jorges\n"
          ]
        }
      ]
    },
    {
      "cell_type": "code",
      "source": [
        "# Podemos concatenar com outra variável que tenha string\n",
        "\n",
        "b = \"Silva\"\n",
        "\n",
        "print(a + \" \" + b)"
      ],
      "metadata": {
        "colab": {
          "base_uri": "https://localhost:8080/"
        },
        "id": "qYnLVSFH2iGW",
        "outputId": "3c6bd165-5f5f-4859-b09d-7802955c52cd"
      },
      "execution_count": null,
      "outputs": [
        {
          "output_type": "stream",
          "name": "stdout",
          "text": [
            "Jorge Silva\n"
          ]
        }
      ]
    },
    {
      "cell_type": "markdown",
      "source": [
        "Essa forma de concatenação, só pode ser usada com string, se tentamos concatenar variáveis com types distintos teremos um TypeError"
      ],
      "metadata": {
        "id": "llFNupuH28sN"
      }
    },
    {
      "cell_type": "code",
      "source": [
        "nome = a # Recebo na variável \"nome\" a variável \"a\".\n",
        "idade = 20\n",
        "print(nome)\n",
        "print(\"-----------\")\n",
        "print(nome + idade)\n",
        "\n"
      ],
      "metadata": {
        "colab": {
          "base_uri": "https://localhost:8080/",
          "height": 252
        },
        "id": "GTvi5yyN3Q_s",
        "outputId": "2c87b572-057e-4925-9d07-f66b6fa3b406"
      },
      "execution_count": null,
      "outputs": [
        {
          "output_type": "stream",
          "name": "stdout",
          "text": [
            "Jorge\n",
            "-----------\n"
          ]
        },
        {
          "output_type": "error",
          "ename": "TypeError",
          "evalue": "ignored",
          "traceback": [
            "\u001b[0;31m---------------------------------------------------------------------------\u001b[0m",
            "\u001b[0;31mTypeError\u001b[0m                                 Traceback (most recent call last)",
            "\u001b[0;32m<ipython-input-8-bb2156d8d10e>\u001b[0m in \u001b[0;36m<module>\u001b[0;34m\u001b[0m\n\u001b[1;32m      3\u001b[0m \u001b[0mprint\u001b[0m\u001b[0;34m(\u001b[0m\u001b[0mnome\u001b[0m\u001b[0;34m)\u001b[0m\u001b[0;34m\u001b[0m\u001b[0;34m\u001b[0m\u001b[0m\n\u001b[1;32m      4\u001b[0m \u001b[0mprint\u001b[0m\u001b[0;34m(\u001b[0m\u001b[0;34m\"-----------\"\u001b[0m\u001b[0;34m)\u001b[0m\u001b[0;34m\u001b[0m\u001b[0;34m\u001b[0m\u001b[0m\n\u001b[0;32m----> 5\u001b[0;31m \u001b[0mprint\u001b[0m\u001b[0;34m(\u001b[0m\u001b[0mnome\u001b[0m \u001b[0;34m+\u001b[0m \u001b[0midade\u001b[0m\u001b[0;34m)\u001b[0m\u001b[0;34m\u001b[0m\u001b[0;34m\u001b[0m\u001b[0m\n\u001b[0m\u001b[1;32m      6\u001b[0m \u001b[0;34m\u001b[0m\u001b[0m\n",
            "\u001b[0;31mTypeError\u001b[0m: can only concatenate str (not \"int\") to str"
          ]
        }
      ]
    },
    {
      "cell_type": "markdown",
      "source": [
        "Como pode ser observado, quando tentamos concatenar uma string com um inteiro temos um erro de tipo.\n"
      ],
      "metadata": {
        "id": "a6wqso_N4MHy"
      }
    },
    {
      "cell_type": "markdown",
      "source": [
        "# Marcadores"
      ],
      "metadata": {
        "id": "tePiBzK85f7v"
      }
    },
    {
      "cell_type": "code",
      "source": [
        "\"\"\"\n",
        "%d -> Números inteiros\n",
        "%s -> Strings\n",
        "%f -> Número decimais\n",
        "\"\"\"\n",
        "# Crio uma variável com uma idade\n",
        "\n",
        "idade = 22\n",
        "print(\"%d\" % idade)"
      ],
      "metadata": {
        "colab": {
          "base_uri": "https://localhost:8080/"
        },
        "id": "-XYdiLXU5o4o",
        "outputId": "ada50d0b-a7d9-46ec-8c24-dcee44460871"
      },
      "execution_count": null,
      "outputs": [
        {
          "output_type": "stream",
          "name": "stdout",
          "text": [
            "22\n"
          ]
        }
      ]
    }
  ]
}