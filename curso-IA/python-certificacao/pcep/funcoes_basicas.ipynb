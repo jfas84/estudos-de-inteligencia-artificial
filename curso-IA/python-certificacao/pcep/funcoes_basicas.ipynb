{
  "nbformat": 4,
  "nbformat_minor": 0,
  "metadata": {
    "colab": {
      "provenance": [],
      "authorship_tag": "ABX9TyPxS0NKOiiNTAaBbqzcWxds",
      "include_colab_link": true
    },
    "kernelspec": {
      "name": "python3",
      "display_name": "Python 3"
    },
    "language_info": {
      "name": "python"
    }
  },
  "cells": [
    {
      "cell_type": "markdown",
      "metadata": {
        "id": "view-in-github",
        "colab_type": "text"
      },
      "source": [
        "<a href=\"https://colab.research.google.com/github/jfas84/estudos-de-inteligencia-artificial/blob/main/curso-IA/python-certificacao/pcep/funcoes_basicas.ipynb\" target=\"_parent\"><img src=\"https://colab.research.google.com/assets/colab-badge.svg\" alt=\"Open In Colab\"/></a>"
      ]
    },
    {
      "cell_type": "markdown",
      "source": [
        "# Funções nativas"
      ],
      "metadata": {
        "id": "J_aelhYMwTkD"
      }
    },
    {
      "cell_type": "markdown",
      "source": [
        "## Função len( )"
      ],
      "metadata": {
        "id": "w9pmP8pYw9jL"
      }
    },
    {
      "cell_type": "code",
      "execution_count": null,
      "metadata": {
        "colab": {
          "base_uri": "https://localhost:8080/"
        },
        "id": "H0Ht_ZTTwPN0",
        "outputId": "04042c57-d8e7-454e-b800-5ef710c5b819"
      },
      "outputs": [
        {
          "output_type": "stream",
          "name": "stdout",
          "text": [
            "4\n"
          ]
        }
      ],
      "source": [
        "# função len() -> conta quantos letras há numa string\n",
        "a = \"jean\"\n",
        "\n",
        "print(len(a))"
      ]
    },
    {
      "cell_type": "code",
      "source": [
        "# função len() -> pode ser usada para contar quantos itens há numa lista.\n",
        "b = [\"agora\", 1, 34, \"fiz\"]\n",
        "\n",
        "print(len(b))"
      ],
      "metadata": {
        "colab": {
          "base_uri": "https://localhost:8080/"
        },
        "id": "oIFwQeIHxEYA",
        "outputId": "2363da25-a463-4347-dbbc-0893500b3028"
      },
      "execution_count": null,
      "outputs": [
        {
          "output_type": "stream",
          "name": "stdout",
          "text": [
            "4\n"
          ]
        }
      ]
    }
  ]
}