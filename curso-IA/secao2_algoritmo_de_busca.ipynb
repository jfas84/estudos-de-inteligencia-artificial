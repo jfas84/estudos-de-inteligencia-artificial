{
  "nbformat": 4,
  "nbformat_minor": 0,
  "metadata": {
    "colab": {
      "provenance": [],
      "authorship_tag": "ABX9TyOohJp5NIS/qKFf1osK8dE3",
      "include_colab_link": true
    },
    "kernelspec": {
      "name": "python3",
      "display_name": "Python 3"
    },
    "language_info": {
      "name": "python"
    }
  },
  "cells": [
    {
      "cell_type": "markdown",
      "metadata": {
        "id": "view-in-github",
        "colab_type": "text"
      },
      "source": [
        "<a href=\"https://colab.research.google.com/github/jfas84/estudos-de-inteligencia-artificial/blob/main/curso-IA/secao2_algoritmo_de_busca.ipynb\" target=\"_parent\"><img src=\"https://colab.research.google.com/assets/colab-badge.svg\" alt=\"Open In Colab\"/></a>"
      ]
    },
    {
      "cell_type": "markdown",
      "source": [
        "# Teoria sobre buscas\n",
        "\n",
        "Na teoria de busca existe o espaço de estados que são todas as possibilidades possíveis, a medida que movemos as possibilidades outras irão surgindo.\n",
        "\n",
        "# Heurísticas\n",
        "\n",
        "Em alguns casos não é possível verificar todas as possibilidades de buscas, por exemplo no caso de um jogo de xadrez há a possibilidade de ter 10**56 jogadas, isso é superior ao número de elétros no universo, impossibilitando um computador de conseguir calcular tamanha probabilidade.\n",
        "\n",
        "Para isso existe as heurísticas.\n",
        "\n",
        "Ela indica as escolhas que a máquina deve priorizar.\n",
        "\n",
        "Uma possibilidade para escolhas de rotas usando a heurística é verificar a distância em linha reta de cada ponto até o ponto que se deseja chegar.\n",
        "\n",
        "\n",
        "# Vetores ordenados\n",
        "\n",
        "O vetor ordenado é a ordenação do menor para o maior, dessa forma qualquer elemento adicionado a determinada lista entra para a ordenação no seu local correspondente do menor para o maior.\n",
        "\n",
        "Link para visualização on-line \n",
        "\n",
        "https://www.cs.usfca.edu/~galles/visualization/Search.html\n",
        "\n",
        "https://www.cs.usfca.edu/~galles/visualization/Algorithms.html\n",
        "\n",
        "Para ver de forma mais simples como funciona o esse tipo e outros de algorítmos.\n",
        "\n",
        "\n",
        "\n"
      ],
      "metadata": {
        "id": "LCRtwhoLHMm-"
      }
    },
    {
      "cell_type": "code",
      "execution_count": null,
      "metadata": {
        "id": "WR39ykTrHKTQ"
      },
      "outputs": [],
      "source": [
        "# Importo a biblioteca numpy\n",
        "\n",
        "import numpy as np"
      ]
    },
    {
      "cell_type": "code",
      "source": [
        "class VetorOrdenado:\n",
        "  \n",
        "  def __init__(self, capacidade):\n",
        "    self.capacidade = capacidade\n",
        "    # A última posição recebe -1, porque se o array tiver uma única posição essa\n",
        "    # posição terá o valor zero, por isso temos que atribuir o valor -1\n",
        "    self.ultima_posicao = -1\n",
        "    # O array recebe a capacidade do tipo inteiro.\n",
        "    self.valores = np.empty(self.capacidade, dtype=int)\n",
        "\n",
        "  # O(n)\n",
        "  def imprime(self):\n",
        "    # verifica se o vetor está vazio, caso contrário faz um laço para percorrer todas as posições\n",
        "    # apresentando o índice e a posição.\n",
        "    if self.ultima_posicao == -1:\n",
        "      print('O vetor está vazio')\n",
        "    else:\n",
        "      for i in range(self.ultima_posicao + 1):\n",
        "        print(i, ' - ', self.valores[i])\n",
        "\n",
        "  # variável valor recebe o parâmentro que queremos inserir\n",
        "  def insere(self, valor):\n",
        "    # o se verifica se a capacidade máxima foi atingida.\n",
        "    if self.ultima_posicao == self.capacidade - 1:\n",
        "      print('Capacidade máxima atingida')\n",
        "      return\n",
        "\n",
        "    # variável posição com valor inicial zero\n",
        "    posicao = 0\n",
        "    \"\"\"\n",
        "    Aqui faço a busca para verificar qual a posição do valor na lista que é maior\n",
        "    que o valor que foi passado para o usuário.\n",
        "    Função simples que faz um laço que percorre todo o array até a última posição.\n",
        "    Quando o laço percorre as posições, atribui para a variável posição o valor de i.\n",
        "    Se o valor do array na posição i for maior que o valor fornecido pelo usuário a\n",
        "    função executa o break e a variável posição estará será o indice onde a variável\n",
        "    no array é maior que o valor fornecido pelo usuário.\n",
        "\n",
        "    Na última posição é preciso inserir mais um if caso a última posição seja igual\n",
        "    igual o valor da variável i.\n",
        "    \"\"\"\n",
        "    for i in range(self.ultima_posicao + 1):\n",
        "      posicao = i\n",
        "      if self.valores[i] > valor:\n",
        "        break # aqui encontramos a posição\n",
        "      if i == self.ultima_posicao:\n",
        "        posicao = i + 1\n",
        "\n",
        "    \"\"\"\n",
        "    Aqui é a nova ordenação, após ser encontrado o local onde o valor na lista\n",
        "    é maior que o valor fornecido pelo usuário, temos que acrescentar esse dado\n",
        "    na lista.\n",
        "    Criei a variável x que recebe a ultima posição do array.\n",
        "    Foi feito um laço para inserir no array os valores, porém de tráz para frente.\n",
        "    Dessa forma será possível inserir um valor na posição correta.\n",
        "    \"\"\"\n",
        "    # Recebe a última posição ex.: 10\n",
        "    x = self.ultima_posicao\n",
        "    # enquanto x for maior ou igual que a posição faça:\n",
        "    while x >= posicao:\n",
        "      # array na posição 10+1 recebe o dado no array na posição 10, logo está sendo\n",
        "      # escrito novamente o array acrescentando mais uma posição até a posição onde \n",
        "      # deve ser inserido o valor informado pelo usuário.\n",
        "      self.valores[x + 1] = self.valores[x]\n",
        "      # decremento\n",
        "      x -= 1\n",
        "    # Aqui insiro o valor informado pelo usuário na posição verificada\n",
        "    self.valores[posicao] = valor\n",
        "    # Aqui acrescento mais um item no contador ultima_posição\n",
        "    self.ultima_posicao += 1\n",
        "\n",
        "    \"\"\"\n",
        "    Exemplo até o momento.\n",
        "    array = [1,2,3,4,5,6,7,9,10]\n",
        "    posic = [0,1,2,3,4,5,6,7,8]\n",
        "    valor = 8\n",
        "    ultima_posicao = 8\n",
        "\n",
        "    O valor deve entrar na posição 7.\n",
        "\n",
        "    enquanto 8 >= 7 faça:\n",
        "    array[8+1] = array[8] \"10\"\n",
        "    8 -= 1\n",
        "\n",
        "    array[7+1] = array[7] \"9\"\n",
        "    7 -= 1\n",
        "    parou\n",
        "\n",
        "    array[7] = 8\n",
        "    ultima_posicao += 1 => 8+1 = 9\n",
        "\n",
        "    array = [1,2,3,4,5,6,7,8,9,10]\n",
        "    \"\"\"\n",
        "\n",
        "  # O(n)\n",
        "  def pesquisa_linear(self, valor):\n",
        "    for i in range(self.ultima_posicao + 1):\n",
        "      if self.valores[i] > valor:\n",
        "        return -1\n",
        "      if self.valores[i] == valor:\n",
        "        return i\n",
        "      if i == self.ultima_posicao:\n",
        "        return -1\n",
        "\n",
        "  # O(log n)\n",
        "  def pesquisa_binaria(self, valor):\n",
        "    limite_inferior = 0\n",
        "    limite_superior = self.ultima_posicao\n",
        "\n",
        "    while True:\n",
        "      posicao_atual = int((limite_inferior + limite_superior) / 2)\n",
        "      # Se achou na primeira tentativa\n",
        "      if self.valores[posicao_atual] == valor:\n",
        "        return posicao_atual\n",
        "      # Se não achou\n",
        "      elif limite_inferior > limite_superior:\n",
        "        return -1\n",
        "      # Divide os limites\n",
        "      else:\n",
        "        # Limite inferior\n",
        "        if self.valores[posicao_atual] < valor:\n",
        "          limite_inferior = posicao_atual + 1\n",
        "        # Limite superior\n",
        "        else:\n",
        "          limite_superior = posicao_atual - 1\n",
        "\n",
        "  # O(n)\n",
        "  def excluir(self, valor):\n",
        "    posicao = self.pesquisar(valor)\n",
        "    if posicao == -1:\n",
        "      return -1\n",
        "    else:\n",
        "      for i in range(posicao, self.ultima_posicao):\n",
        "        self.valores[i] = self.valores[i + 1]\n",
        "      \n",
        "      self.ultima_posicao -= 1"
      ],
      "metadata": {
        "id": "dNO7eQh2vHY2"
      },
      "execution_count": null,
      "outputs": []
    },
    {
      "cell_type": "code",
      "source": [
        "vetor = VetorOrdenado(10)\n",
        "vetor.imprime()"
      ],
      "metadata": {
        "colab": {
          "base_uri": "https://localhost:8080/"
        },
        "id": "QRRdFdCQvKyU",
        "outputId": "e4fb7e37-1e1a-4b1e-ebdb-2caad293ce6b"
      },
      "execution_count": null,
      "outputs": [
        {
          "output_type": "stream",
          "name": "stdout",
          "text": [
            "O vetor está vazio\n"
          ]
        }
      ]
    },
    {
      "cell_type": "code",
      "source": [
        "vetor.insere(6)\n",
        "vetor.imprime()"
      ],
      "metadata": {
        "colab": {
          "base_uri": "https://localhost:8080/"
        },
        "id": "JSJoAwf2vMqW",
        "outputId": "ce96b9fb-4c1a-48cb-8133-0134048daede"
      },
      "execution_count": null,
      "outputs": [
        {
          "output_type": "stream",
          "name": "stdout",
          "text": [
            "0  -  6\n"
          ]
        }
      ]
    },
    {
      "cell_type": "code",
      "source": [
        "vetor.insere(4)\n",
        "vetor.imprime()"
      ],
      "metadata": {
        "colab": {
          "base_uri": "https://localhost:8080/"
        },
        "id": "1nsALbnEvOKS",
        "outputId": "977c1bcf-6b4c-4d72-d416-ff704681c661"
      },
      "execution_count": null,
      "outputs": [
        {
          "output_type": "stream",
          "name": "stdout",
          "text": [
            "0  -  4\n",
            "1  -  6\n"
          ]
        }
      ]
    },
    {
      "cell_type": "code",
      "source": [
        "vetor.insere(3)\n",
        "vetor.imprime()"
      ],
      "metadata": {
        "colab": {
          "base_uri": "https://localhost:8080/"
        },
        "id": "CtqTJpUWvOxC",
        "outputId": "2fbebb29-4739-4323-8516-853a0f736fef"
      },
      "execution_count": null,
      "outputs": [
        {
          "output_type": "stream",
          "name": "stdout",
          "text": [
            "0  -  3\n",
            "1  -  4\n",
            "2  -  6\n"
          ]
        }
      ]
    },
    {
      "cell_type": "code",
      "source": [
        "vetor.insere(5)\n",
        "vetor.imprime()"
      ],
      "metadata": {
        "colab": {
          "base_uri": "https://localhost:8080/"
        },
        "id": "cSi4gaAxvQuO",
        "outputId": "63e8afaa-d7f3-4b8d-9d1a-a93b69f0e9b8"
      },
      "execution_count": null,
      "outputs": [
        {
          "output_type": "stream",
          "name": "stdout",
          "text": [
            "0  -  3\n",
            "1  -  4\n",
            "2  -  5\n",
            "3  -  6\n"
          ]
        }
      ]
    },
    {
      "cell_type": "code",
      "source": [
        "vetor.insere(1)\n",
        "vetor.imprime()"
      ],
      "metadata": {
        "colab": {
          "base_uri": "https://localhost:8080/"
        },
        "id": "6QWtsvmjvSZQ",
        "outputId": "8a317080-a2ca-4a2d-c061-468f4f8789bb"
      },
      "execution_count": null,
      "outputs": [
        {
          "output_type": "stream",
          "name": "stdout",
          "text": [
            "0  -  1\n",
            "1  -  3\n",
            "2  -  4\n",
            "3  -  5\n",
            "4  -  6\n"
          ]
        }
      ]
    },
    {
      "cell_type": "code",
      "source": [
        "vetor.insere(8)\n",
        "vetor.imprime()"
      ],
      "metadata": {
        "colab": {
          "base_uri": "https://localhost:8080/"
        },
        "id": "ubELCsUdvUw2",
        "outputId": "fa664216-2bea-46fc-9a2d-1f84f8e98955"
      },
      "execution_count": null,
      "outputs": [
        {
          "output_type": "stream",
          "name": "stdout",
          "text": [
            "0  -  1\n",
            "1  -  3\n",
            "2  -  4\n",
            "3  -  5\n",
            "4  -  6\n",
            "5  -  8\n"
          ]
        }
      ]
    },
    {
      "cell_type": "code",
      "source": [
        "vetor.pesquisar(3)"
      ],
      "metadata": {
        "id": "87s6Ceg4vXdp"
      },
      "execution_count": null,
      "outputs": []
    },
    {
      "cell_type": "code",
      "source": [
        "vetor.pesquisar(2)"
      ],
      "metadata": {
        "id": "gphAjZegvbmc"
      },
      "execution_count": null,
      "outputs": []
    },
    {
      "cell_type": "code",
      "source": [
        "vetor.pesquisar(9)"
      ],
      "metadata": {
        "id": "9zSyWOWHvel2"
      },
      "execution_count": null,
      "outputs": []
    },
    {
      "cell_type": "code",
      "source": [
        "vetor.imprime()"
      ],
      "metadata": {
        "id": "7NS_v3qBvgfM"
      },
      "execution_count": null,
      "outputs": []
    },
    {
      "cell_type": "code",
      "source": [
        "vetor.excluir(5)\n",
        "vetor.imprime()"
      ],
      "metadata": {
        "id": "6ebrvbCNvkGg"
      },
      "execution_count": null,
      "outputs": []
    },
    {
      "cell_type": "code",
      "source": [
        "vetor.excluir(1)\n",
        "vetor.imprime()"
      ],
      "metadata": {
        "id": "R9J4ZnBIvmHe"
      },
      "execution_count": null,
      "outputs": []
    },
    {
      "cell_type": "code",
      "source": [
        "vetor.excluir(8)\n",
        "vetor.imprime()"
      ],
      "metadata": {
        "id": "gEKoDOBbvpjL"
      },
      "execution_count": null,
      "outputs": []
    },
    {
      "cell_type": "code",
      "source": [
        "vetor.excluir(9)"
      ],
      "metadata": {
        "id": "60xQUoSgvrX6"
      },
      "execution_count": null,
      "outputs": []
    },
    {
      "cell_type": "code",
      "source": [
        "vetor = VetorOrdenado(10)\n",
        "vetor.insere(8)\n",
        "vetor.insere(9)\n",
        "vetor.insere(4)\n",
        "vetor.insere(1)\n",
        "vetor.insere(5)\n",
        "vetor.insere(7)\n",
        "vetor.insere(11)\n",
        "vetor.insere(13)\n",
        "vetor.insere(2)\n",
        "vetor.imprime()"
      ],
      "metadata": {
        "id": "iNcz4Kg7vtFj"
      },
      "execution_count": null,
      "outputs": []
    },
    {
      "cell_type": "code",
      "source": [
        "vetor.pesquisa_binaria(7)"
      ],
      "metadata": {
        "id": "sENhuhrMvvFb"
      },
      "execution_count": null,
      "outputs": []
    },
    {
      "cell_type": "code",
      "source": [
        "vetor.pesquisa_binaria(5)"
      ],
      "metadata": {
        "id": "m9bhJGXtvwxB"
      },
      "execution_count": null,
      "outputs": []
    },
    {
      "cell_type": "code",
      "source": [
        "vetor.pesquisa_binaria(13)"
      ],
      "metadata": {
        "id": "ou9S5v_YvySH"
      },
      "execution_count": null,
      "outputs": []
    },
    {
      "cell_type": "code",
      "source": [
        "vetor.pesquisa_binaria(20)"
      ],
      "metadata": {
        "id": "6s-NEDLvv0Ze"
      },
      "execution_count": null,
      "outputs": []
    },
    {
      "cell_type": "markdown",
      "source": [
        "# Grafo - Busca gulosa"
      ],
      "metadata": {
        "id": "4O_bTbBgLr7n"
      }
    },
    {
      "cell_type": "markdown",
      "source": [
        "## Grafo"
      ],
      "metadata": {
        "id": "cjeuwmJPLu8t"
      }
    },
    {
      "cell_type": "markdown",
      "source": [
        "Para fazer a busca, vamos trabalhar com OO, criando algumas classes.\n",
        "\n",
        "O exercío abaixo, busca o caminho mais rápido entre dois pontos, para isso foi preciso criar algumas classes, onde é informado o vértice que é o nome do local ou nó que pode ser a partida.\n",
        "\n",
        "Os nós que fazem fronteira com o vértice."
      ],
      "metadata": {
        "id": "2h6EA74xL7qw"
      }
    },
    {
      "cell_type": "code",
      "source": [
        "class Vertice:\n",
        "  \"\"\"\n",
        "  O construtor def __init__ recebe um:\n",
        "  rotulo -> parâmentro nome das cidades.\n",
        "\n",
        "  Essa classe possui os seguintes atributos:\n",
        "  rotulo -> informado pelo usuário, que é o nome das cidades.\n",
        "  \n",
        "  visitado -> é um booleano que recebe como default False.\n",
        "  Aqui vamos verificar se determinado vértice foi ou não visitado.\n",
        "\n",
        "  adjacentes -> são os pontos que são adjacentes aos vértices, os pontos que fazem \n",
        "  \"fronteira\" que é uma lista com seu estado inicial vazio.\n",
        "\n",
        "  distantica_objetivo -> recebe a distância até o seu objetivo.\n",
        "\n",
        "\n",
        "  \"\"\"\n",
        "  def __init__(self, rotulo, distancia_objetivo):\n",
        "    self.rotulo = rotulo\n",
        "    self.visitado = False\n",
        "    self.distancia_objetivo = distancia_objetivo\n",
        "    self.adjacentes = []\n",
        "  \"\"\"\n",
        "  A função adiciona_adjacente, recebe como parâmentro o local adjacente ao vértice\n",
        "  e o adiciona a lista adjacentes da classe.\n",
        "  \"\"\"\n",
        "  def adiciona_adjacente(self, adjacente):\n",
        "    self.adjacentes.append(adjacente)\n",
        "\n",
        "  \"\"\"\n",
        "  A função mostra_adjacente percorre a lista através de um laço imprimindo todos\n",
        "  os pontos que estão armazenados na lista adjacentes.\n",
        "  \"\"\"\n",
        "  def mostra_adjacentes(self):\n",
        "    for i in self.adjacentes:\n",
        "      print(i.vertice.rotulo, i.custo)"
      ],
      "metadata": {
        "id": "-Z3WLt8WLxLf"
      },
      "execution_count": 14,
      "outputs": []
    },
    {
      "cell_type": "code",
      "source": [
        "class Adjacente:\n",
        "  \"\"\"\n",
        "  Essa classe representa a ligação e o custo do trajeto.\n",
        "  \n",
        "  \"\"\"\n",
        "  def __init__(self, vertice, custo):\n",
        "    self.vertice = vertice\n",
        "    self.custo = custo"
      ],
      "metadata": {
        "id": "CFMPg2UUPKbX"
      },
      "execution_count": 15,
      "outputs": []
    },
    {
      "cell_type": "code",
      "source": [
        "\"\"\"\n",
        "Aqui crio um grafo que irá unir as duas outras classes.\n",
        "\"\"\"\n",
        "\n",
        "\n",
        "class Grafo:\n",
        "  # Criado todos os objetos sendo cada nome do objeto referente a um vertice que é uma cidade.\n",
        "  arad = Vertice('Arad', 366)\n",
        "  zerind = Vertice('Zerind', 374)\n",
        "  oradea = Vertice('Oradea', 380)\n",
        "  sibiu = Vertice('Sibiu', 253)\n",
        "  timisoara = Vertice('Timisoara', 329)\n",
        "  lugoj = Vertice('Lugoj', 244)\n",
        "  mehadia = Vertice('Mehadia', 241)\n",
        "  dobreta = Vertice('Dobreta', 242)\n",
        "  craiova = Vertice('Craiova', 160)\n",
        "  rimnicu = Vertice('Rimnicu', 193)\n",
        "  fagaras = Vertice('Fagaras', 178)\n",
        "  pitesti = Vertice('Pitesti', 98)\n",
        "  bucharest = Vertice('Bucharest', 0)\n",
        "  giurgiu = Vertice('Giurgiu', 77)\n",
        "\n",
        "  # Criado os nós que fazem fronteira com o vértice e suas respectivas distâncias.\n",
        "  # Cada vértice possui seus adjacentes.\n",
        "  arad.adiciona_adjacente(Adjacente(zerind, 75))\n",
        "  arad.adiciona_adjacente(Adjacente(sibiu, 140))\n",
        "  arad.adiciona_adjacente(Adjacente(timisoara, 118))\n",
        "\n",
        "  zerind.adiciona_adjacente(Adjacente(arad, 75))\n",
        "  zerind.adiciona_adjacente(Adjacente(oradea, 71))\n",
        "\n",
        "  oradea.adiciona_adjacente(Adjacente(zerind, 71))\n",
        "  oradea.adiciona_adjacente(Adjacente(sibiu, 151))\n",
        "\n",
        "  sibiu.adiciona_adjacente(Adjacente(oradea, 151))\n",
        "  sibiu.adiciona_adjacente(Adjacente(arad, 140))\n",
        "  sibiu.adiciona_adjacente(Adjacente(fagaras, 99))\n",
        "  sibiu.adiciona_adjacente(Adjacente(rimnicu, 80))\n",
        "\n",
        "  timisoara.adiciona_adjacente(Adjacente(arad, 118))\n",
        "  timisoara.adiciona_adjacente(Adjacente(lugoj, 111))\n",
        "\n",
        "  lugoj.adiciona_adjacente(Adjacente(timisoara, 111))\n",
        "  lugoj.adiciona_adjacente(Adjacente(mehadia, 70))\n",
        "\n",
        "  mehadia.adiciona_adjacente(Adjacente(lugoj, 70))\n",
        "  mehadia.adiciona_adjacente(Adjacente(dobreta, 75))\n",
        "\n",
        "  dobreta.adiciona_adjacente(Adjacente(mehadia, 75))\n",
        "  dobreta.adiciona_adjacente(Adjacente(craiova, 120))\n",
        "\n",
        "  craiova.adiciona_adjacente(Adjacente(dobreta, 120))\n",
        "  craiova.adiciona_adjacente(Adjacente(pitesti, 138))\n",
        "  craiova.adiciona_adjacente(Adjacente(rimnicu, 146))\n",
        "\n",
        "  rimnicu.adiciona_adjacente(Adjacente(craiova, 146))\n",
        "  rimnicu.adiciona_adjacente(Adjacente(sibiu, 80))\n",
        "  rimnicu.adiciona_adjacente(Adjacente(pitesti, 97))\n",
        "\n",
        "  fagaras.adiciona_adjacente(Adjacente(sibiu, 99))\n",
        "  fagaras.adiciona_adjacente(Adjacente(bucharest, 211))\n",
        "\n",
        "  pitesti.adiciona_adjacente(Adjacente(rimnicu, 97))\n",
        "  pitesti.adiciona_adjacente(Adjacente(craiova, 138))\n",
        "  pitesti.adiciona_adjacente(Adjacente(bucharest, 101))\n",
        "\n",
        "  bucharest.adiciona_adjacente(Adjacente(fagaras, 211))\n",
        "  bucharest.adiciona_adjacente(Adjacente(pitesti, 101))\n",
        "  bucharest.adiciona_adjacente(Adjacente(giurgiu, 90))"
      ],
      "metadata": {
        "id": "4omZlpz-Pl9_"
      },
      "execution_count": 16,
      "outputs": []
    },
    {
      "cell_type": "code",
      "source": [
        "grafo = Grafo()"
      ],
      "metadata": {
        "id": "nFJZ7dnPSA9N"
      },
      "execution_count": 17,
      "outputs": []
    },
    {
      "cell_type": "code",
      "source": [
        "grafo.arad.mostra_adjacentes()"
      ],
      "metadata": {
        "colab": {
          "base_uri": "https://localhost:8080/"
        },
        "id": "fFqGNJFASKD2",
        "outputId": "0f2bb69c-18d2-4cdb-959e-3d3619fa5f02"
      },
      "execution_count": 5,
      "outputs": [
        {
          "output_type": "stream",
          "name": "stdout",
          "text": [
            "Zerind 75\n",
            "Sibiu 140\n",
            "Timisoara 118\n"
          ]
        }
      ]
    },
    {
      "cell_type": "code",
      "source": [
        "grafo.craiova.mostra_adjacentes()"
      ],
      "metadata": {
        "colab": {
          "base_uri": "https://localhost:8080/"
        },
        "id": "QzcIN2mDSQxo",
        "outputId": "f309745c-8f2a-4676-e6bc-8fdd93f12338"
      },
      "execution_count": 6,
      "outputs": [
        {
          "output_type": "stream",
          "name": "stdout",
          "text": [
            "Dobreta 120\n",
            "Pitesti 138\n",
            "Rimnicu 146\n"
          ]
        }
      ]
    },
    {
      "cell_type": "code",
      "source": [
        "grafo.rimnicu.mostra_adjacentes()"
      ],
      "metadata": {
        "colab": {
          "base_uri": "https://localhost:8080/"
        },
        "id": "ypLARawLSX33",
        "outputId": "ef04f84d-30dd-43a6-e814-1d713e4b0d17"
      },
      "execution_count": 8,
      "outputs": [
        {
          "output_type": "stream",
          "name": "stdout",
          "text": [
            "Craiova 146\n",
            "Sibiu 80\n",
            "Pitesti 97\n"
          ]
        }
      ]
    },
    {
      "cell_type": "markdown",
      "source": [
        "## Vetor ordenado"
      ],
      "metadata": {
        "id": "NnqMXMHUWZsC"
      }
    },
    {
      "cell_type": "code",
      "source": [
        "import numpy as np\n",
        "class VetorOrdenado:\n",
        "  \n",
        "  def __init__(self, capacidade):\n",
        "    self.capacidade = capacidade\n",
        "    self.ultima_posicao = -1\n",
        "    # Mudança no tipo de dados para objetos\n",
        "    self.valores = np.empty(self.capacidade, dtype=object)\n",
        "\n",
        "  # Referência para o vértice e comparação com a distância para o objetivo\n",
        "  def insere(self, vertice):\n",
        "    # Função recebe as cidades\n",
        "    if self.ultima_posicao == self.capacidade - 1:\n",
        "      print('Capacidade máxima atingida')\n",
        "      return\n",
        "    posicao = 0\n",
        "    for i in range(self.ultima_posicao + 1):\n",
        "      posicao = i\n",
        "      # Comparo a distância do objetivo com a distância do objetivo da cidade\n",
        "      if self.valores[i].distancia_objetivo > vertice.distancia_objetivo:\n",
        "        break\n",
        "      if i == self.ultima_posicao:\n",
        "        posicao = i + 1\n",
        "    x = self.ultima_posicao\n",
        "    while x >= posicao:\n",
        "      self.valores[x + 1] = self.valores[x]\n",
        "      x -= 1\n",
        "    self.valores[posicao] = vertice\n",
        "    self.ultima_posicao += 1\n",
        "\n",
        "  def imprime(self):\n",
        "    if self.ultima_posicao == -1:\n",
        "      print('O vetor está vazio')\n",
        "    else:\n",
        "      for i in range(self.ultima_posicao + 1):\n",
        "        print(i, ' - ', self.valores[i].rotulo, ' - ', self.valores[i].distancia_objetivo)  "
      ],
      "metadata": {
        "id": "xupAu2ajWYxZ"
      },
      "execution_count": 18,
      "outputs": []
    },
    {
      "cell_type": "code",
      "source": [
        "# Verificando se a função vetor ordenado está funcionando corretamente.\n",
        "vetor = VetorOrdenado(5)\n",
        "vetor.insere(grafo.arad)\n",
        "vetor.insere(grafo.craiova)\n",
        "vetor.insere(grafo.bucharest)\n",
        "vetor.insere(grafo.dobreta)"
      ],
      "metadata": {
        "id": "GG7eYtiqWgW1"
      },
      "execution_count": 10,
      "outputs": []
    },
    {
      "cell_type": "code",
      "source": [
        "vetor.imprime()"
      ],
      "metadata": {
        "colab": {
          "base_uri": "https://localhost:8080/"
        },
        "id": "3ixBcvrnWiUf",
        "outputId": "f021b686-9d19-4c78-f481-141aa06a2540"
      },
      "execution_count": 11,
      "outputs": [
        {
          "output_type": "stream",
          "name": "stdout",
          "text": [
            "0  -  Bucharest  -  0\n",
            "1  -  Craiova  -  160\n",
            "2  -  Dobreta  -  242\n",
            "3  -  Arad  -  366\n"
          ]
        }
      ]
    },
    {
      "cell_type": "code",
      "source": [
        "vetor.insere(grafo.lugoj)\n",
        "vetor.imprime()"
      ],
      "metadata": {
        "colab": {
          "base_uri": "https://localhost:8080/"
        },
        "id": "_BtnZHyAW0ZG",
        "outputId": "009b69a2-4afe-4fe5-d2ef-c996dc9a053a"
      },
      "execution_count": 12,
      "outputs": [
        {
          "output_type": "stream",
          "name": "stdout",
          "text": [
            "0  -  Bucharest  -  0\n",
            "1  -  Craiova  -  160\n",
            "2  -  Dobreta  -  242\n",
            "3  -  Lugoj  -  244\n",
            "4  -  Arad  -  366\n"
          ]
        }
      ]
    },
    {
      "cell_type": "code",
      "source": [
        "# Teste para verificar o valor do índice 0 que será o valor mais próximo em linha reta do objetivo.\n",
        "\n",
        "vetor.valores[0], vetor.valores[0].rotulo"
      ],
      "metadata": {
        "colab": {
          "base_uri": "https://localhost:8080/"
        },
        "id": "f10ltB7mW-EG",
        "outputId": "6a09def1-0190-48ab-8a72-42275c6c14bb"
      },
      "execution_count": 13,
      "outputs": [
        {
          "output_type": "execute_result",
          "data": {
            "text/plain": [
              "(<__main__.Vertice at 0x7fb0eb097100>, 'Bucharest')"
            ]
          },
          "metadata": {},
          "execution_count": 13
        }
      ]
    },
    {
      "cell_type": "markdown",
      "source": [
        "## Busca gulosa"
      ],
      "metadata": {
        "id": "CHnsnn4zXE7C"
      }
    },
    {
      "cell_type": "markdown",
      "source": [
        "Na busca gulosa entre dois pontos, nesses exemplo estou utilizando a distância em linha reta, mas é possível utilizar vários tipos de heurísticas dependendo do ambiente."
      ],
      "metadata": {
        "id": "YT3XPJQaXWX_"
      }
    },
    {
      "cell_type": "code",
      "source": [
        "class Gulosa:\n",
        "  \"\"\"\n",
        "  Essa classe recebe o parâmetro objetivo que é onde desejamos chegar.\n",
        "  \n",
        "  A função buscar, recebe como parâmetro a atual localidade em que estamos, isto é\n",
        "  o dado inicial para realizar a busca do caminho mais próximo em linha reta.\n",
        "  \"\"\"\n",
        "  def __init__(self, objetivo):\n",
        "    self.objetivo = objetivo\n",
        "    self.encontrado = False\n",
        "\n",
        "  def buscar(self, atual):\n",
        "    print('-------')\n",
        "    print('Atual: {}'.format(atual.rotulo))\n",
        "    atual.visitado = True\n",
        "    # se o atual for igual ao objetivo interrompe a execução\n",
        "    if atual == self.objetivo:\n",
        "      self.encontrado = True\n",
        "    else:\n",
        "      # O vetor ordenado é criado conforme o tamanho dos vetores adjacentes que determinado vertice possui.\n",
        "      vetor_ordenado = VetorOrdenado(len(atual.adjacentes))\n",
        "      # Percorre todas as cidades adjacentes e adiciona essas cidades ao vetor_ordenado\n",
        "      for adjacente in atual.adjacentes:\n",
        "        if adjacente.vertice.visitado == False:\n",
        "          adjacente.vertice.visitado == True\n",
        "          vetor_ordenado.insere(adjacente.vertice)\n",
        "      # Depois que é adicionado é impresso todos os vetores.\n",
        "      vetor_ordenado.imprime()\n",
        "      # Aqui busca o vetor ordenado na posição 0\n",
        "      if vetor_ordenado.valores[0] != None:\n",
        "        self.buscar(vetor_ordenado.valores[0])  \n"
      ],
      "metadata": {
        "id": "rlNh1gRRXEUo"
      },
      "execution_count": 19,
      "outputs": []
    },
    {
      "cell_type": "code",
      "source": [
        "# Crio o objeto passando o destino que nesse exercício sempre será bucharest porque só temos as distâncias em linha reta até essa cidade.\n",
        "busca_gulosa = Gulosa(grafo.bucharest)\n",
        "# Faço o buscar passando a localização atual\n",
        "busca_gulosa.buscar(grafo.arad)"
      ],
      "metadata": {
        "colab": {
          "base_uri": "https://localhost:8080/"
        },
        "id": "6VkW4_7VXKvd",
        "outputId": "18f895a2-498f-4a16-c24b-e7c40f91fd9d"
      },
      "execution_count": 24,
      "outputs": [
        {
          "output_type": "stream",
          "name": "stdout",
          "text": [
            "-------\n",
            "Atual: Arad\n",
            "0  -  Timisoara  -  329\n",
            "1  -  Zerind  -  374\n",
            "-------\n",
            "Atual: Timisoara\n",
            "0  -  Lugoj  -  244\n",
            "-------\n",
            "Atual: Lugoj\n",
            "0  -  Mehadia  -  241\n",
            "-------\n",
            "Atual: Mehadia\n",
            "0  -  Dobreta  -  242\n",
            "-------\n",
            "Atual: Dobreta\n",
            "O vetor está vazio\n"
          ]
        }
      ]
    },
    {
      "cell_type": "markdown",
      "source": [
        "# Grafo - Busca A Estrela (A*)"
      ],
      "metadata": {
        "id": "3BBB23zJOLga"
      }
    },
    {
      "cell_type": "markdown",
      "source": [
        "## Grafo"
      ],
      "metadata": {
        "id": "gAWmoEsMOOP2"
      }
    },
    {
      "cell_type": "code",
      "source": [
        "class Vertice:\n",
        "\n",
        "  def __init__(self, rotulo, distancia_objetivo):\n",
        "    self.rotulo = rotulo\n",
        "    self.visitado = False\n",
        "    self.distancia_objetivo = distancia_objetivo\n",
        "    self.adjacentes = []\n",
        "\n",
        "  def adiciona_adjacente(self, adjacente):\n",
        "    self.adjacentes.append(adjacente)\n",
        "\n",
        "  def mostra_adjacentes(self):\n",
        "    for i in self.adjacentes:\n",
        "      print(i.vertice.rotulo, i.custo)"
      ],
      "metadata": {
        "id": "dgOgnXZnOK7T"
      },
      "execution_count": 49,
      "outputs": []
    },
    {
      "cell_type": "code",
      "source": [
        "class Adjacente:\n",
        "  def __init__(self, vertice, custo):\n",
        "    self.vertice = vertice\n",
        "    self.custo = custo\n",
        "\n",
        "    # Novo atributo diferente do busca gulosa.\n",
        "    self.distancia_aestrela = vertice.distancia_objetivo + self.custo"
      ],
      "metadata": {
        "id": "q9-_yS4AORuq"
      },
      "execution_count": 50,
      "outputs": []
    },
    {
      "cell_type": "code",
      "source": [
        "# Distância entre cada vertice e o objetivo em linha reta.\n",
        "\n",
        "class Grafo:\n",
        "  arad = Vertice('Arad', 366)\n",
        "  zerind = Vertice('Zerind', 374)\n",
        "  oradea = Vertice('Oradea', 380)\n",
        "  sibiu = Vertice('Sibiu', 253)\n",
        "  timisoara = Vertice('Timisoara', 329)\n",
        "  lugoj = Vertice('Lugoj', 244)\n",
        "  mehadia = Vertice('Mehadia', 241)\n",
        "  dobreta = Vertice('Dobreta', 242)\n",
        "  craiova = Vertice('Craiova', 160)\n",
        "  rimnicu = Vertice('Rimnicu', 193)\n",
        "  fagaras = Vertice('Fagaras', 178)\n",
        "  pitesti = Vertice('Pitesti', 98)\n",
        "  bucharest = Vertice('Bucharest', 0)\n",
        "  giurgiu = Vertice('Giurgiu', 77)\n",
        "\n",
        "  arad.adiciona_adjacente(Adjacente(zerind, 75))\n",
        "  arad.adiciona_adjacente(Adjacente(sibiu, 140))\n",
        "  arad.adiciona_adjacente(Adjacente(timisoara, 118))\n",
        "\n",
        "  zerind.adiciona_adjacente(Adjacente(arad, 75))\n",
        "  zerind.adiciona_adjacente(Adjacente(oradea, 71))\n",
        "\n",
        "  oradea.adiciona_adjacente(Adjacente(zerind, 71))\n",
        "  oradea.adiciona_adjacente(Adjacente(sibiu, 151))\n",
        "\n",
        "  sibiu.adiciona_adjacente(Adjacente(oradea, 151))\n",
        "  sibiu.adiciona_adjacente(Adjacente(arad, 140))\n",
        "  sibiu.adiciona_adjacente(Adjacente(fagaras, 99))\n",
        "  sibiu.adiciona_adjacente(Adjacente(rimnicu, 80))\n",
        "\n",
        "  timisoara.adiciona_adjacente(Adjacente(arad, 118))\n",
        "  timisoara.adiciona_adjacente(Adjacente(lugoj, 111))\n",
        "\n",
        "  lugoj.adiciona_adjacente(Adjacente(timisoara, 111))\n",
        "  lugoj.adiciona_adjacente(Adjacente(mehadia, 70))\n",
        "\n",
        "  mehadia.adiciona_adjacente(Adjacente(lugoj, 70))\n",
        "  mehadia.adiciona_adjacente(Adjacente(dobreta, 75))\n",
        "\n",
        "  dobreta.adiciona_adjacente(Adjacente(mehadia, 75))\n",
        "  dobreta.adiciona_adjacente(Adjacente(craiova, 120))\n",
        "\n",
        "  craiova.adiciona_adjacente(Adjacente(dobreta, 120))\n",
        "  craiova.adiciona_adjacente(Adjacente(pitesti, 138))\n",
        "  craiova.adiciona_adjacente(Adjacente(rimnicu, 146))\n",
        "\n",
        "  rimnicu.adiciona_adjacente(Adjacente(craiova, 146))\n",
        "  rimnicu.adiciona_adjacente(Adjacente(sibiu, 80))\n",
        "  rimnicu.adiciona_adjacente(Adjacente(pitesti, 97))\n",
        "\n",
        "  fagaras.adiciona_adjacente(Adjacente(sibiu, 99))\n",
        "  fagaras.adiciona_adjacente(Adjacente(bucharest, 211))\n",
        "\n",
        "  pitesti.adiciona_adjacente(Adjacente(rimnicu, 97))\n",
        "  pitesti.adiciona_adjacente(Adjacente(craiova, 138))\n",
        "  pitesti.adiciona_adjacente(Adjacente(bucharest, 101))\n",
        "\n",
        "  bucharest.adiciona_adjacente(Adjacente(fagaras, 211))\n",
        "  bucharest.adiciona_adjacente(Adjacente(pitesti, 101))\n",
        "  bucharest.adiciona_adjacente(Adjacente(giurgiu, 90))"
      ],
      "metadata": {
        "id": "xJ-ah-TUOTU1"
      },
      "execution_count": 51,
      "outputs": []
    },
    {
      "cell_type": "code",
      "source": [
        "grafo = Grafo()"
      ],
      "metadata": {
        "id": "Yev5v_MxOVb9"
      },
      "execution_count": 52,
      "outputs": []
    },
    {
      "cell_type": "markdown",
      "source": [
        "## Vetor ordenado (adjacente)"
      ],
      "metadata": {
        "id": "N9Bu2fMYOXe-"
      }
    },
    {
      "cell_type": "code",
      "source": [
        "import numpy as np\n",
        "class VetorOrdenado:\n",
        "  \n",
        "  def __init__(self, capacidade):\n",
        "    self.capacidade = capacidade\n",
        "    self.ultima_posicao = -1\n",
        "    # Mudança no tipo de dados\n",
        "    self.valores = np.empty(self.capacidade, dtype=object)\n",
        "\n",
        "  # Referência para o vértice e comparação com a distância A Estrela\n",
        "  def insere(self, adjacente):\n",
        "    if self.ultima_posicao == self.capacidade - 1:\n",
        "      print('Capacidade máxima atingida')\n",
        "      return\n",
        "    posicao = 0\n",
        "    for i in range(self.ultima_posicao + 1):\n",
        "      posicao = i\n",
        "      if self.valores[i].distancia_aestrela > adjacente.distancia_aestrela:\n",
        "        break\n",
        "      if i == self.ultima_posicao:\n",
        "        posicao = i + 1\n",
        "    x = self.ultima_posicao\n",
        "    while x >= posicao:\n",
        "      self.valores[x + 1] = self.valores[x]\n",
        "      x -= 1\n",
        "    self.valores[posicao] = adjacente\n",
        "    self.ultima_posicao += 1\n",
        "\n",
        "  def imprime(self):\n",
        "    if self.ultima_posicao == -1:\n",
        "      print('O vetor está vazio')\n",
        "    else:\n",
        "      for i in range(self.ultima_posicao + 1):\n",
        "        print(i, ' - ', self.valores[i].vertice.rotulo, ' - ', \n",
        "              self.valores[i].custo, ' - ', \n",
        "              self.valores[i].vertice.distancia_objetivo, ' - ',\n",
        "              self.valores[i].distancia_aestrela)  "
      ],
      "metadata": {
        "id": "Ul7U5uw4OYRS"
      },
      "execution_count": 53,
      "outputs": []
    },
    {
      "cell_type": "code",
      "source": [
        "grafo.arad.adjacentes"
      ],
      "metadata": {
        "colab": {
          "base_uri": "https://localhost:8080/"
        },
        "id": "uN0c2shjObtY",
        "outputId": "26acca79-2437-442c-e848-a7fed7e9b307"
      },
      "execution_count": 54,
      "outputs": [
        {
          "output_type": "execute_result",
          "data": {
            "text/plain": [
              "[<__main__.Adjacente at 0x7fb0ea55e940>,\n",
              " <__main__.Adjacente at 0x7fb0ea55e9a0>,\n",
              " <__main__.Adjacente at 0x7fb0ea55ea00>]"
            ]
          },
          "metadata": {},
          "execution_count": 54
        }
      ]
    },
    {
      "cell_type": "code",
      "source": [
        "grafo.arad.adjacentes[0].vertice.rotulo, grafo.arad.adjacentes[0].vertice.distancia_objetivo"
      ],
      "metadata": {
        "colab": {
          "base_uri": "https://localhost:8080/"
        },
        "id": "dqcWRXSiOdeP",
        "outputId": "81015443-b4a2-4d80-ad3d-65428638d764"
      },
      "execution_count": 55,
      "outputs": [
        {
          "output_type": "execute_result",
          "data": {
            "text/plain": [
              "('Zerind', 374)"
            ]
          },
          "metadata": {},
          "execution_count": 55
        }
      ]
    },
    {
      "cell_type": "code",
      "source": [
        "grafo.arad.adjacentes[0].distancia_aestrela, grafo.arad.adjacentes[0].custo"
      ],
      "metadata": {
        "colab": {
          "base_uri": "https://localhost:8080/"
        },
        "id": "Ibl2dVswOezE",
        "outputId": "34dbd08a-fb21-4d21-f78e-51e9944c3811"
      },
      "execution_count": 56,
      "outputs": [
        {
          "output_type": "execute_result",
          "data": {
            "text/plain": [
              "(449, 75)"
            ]
          },
          "metadata": {},
          "execution_count": 56
        }
      ]
    },
    {
      "cell_type": "code",
      "source": [
        "vetor = VetorOrdenado(3)\n",
        "vetor.insere(grafo.arad.adjacentes[0])\n",
        "vetor.insere(grafo.arad.adjacentes[1])\n",
        "vetor.insere(grafo.arad.adjacentes[2])"
      ],
      "metadata": {
        "id": "kUKC2s0wOgOW"
      },
      "execution_count": 57,
      "outputs": []
    },
    {
      "cell_type": "code",
      "source": [
        "vetor.imprime()"
      ],
      "metadata": {
        "colab": {
          "base_uri": "https://localhost:8080/"
        },
        "id": "iZjycEFaOh6c",
        "outputId": "8ede9599-af34-40f2-9ad3-9d28b23e7d57"
      },
      "execution_count": 58,
      "outputs": [
        {
          "output_type": "stream",
          "name": "stdout",
          "text": [
            "0  -  Sibiu  -  140  -  253  -  393\n",
            "1  -  Timisoara  -  118  -  329  -  447\n",
            "2  -  Zerind  -  75  -  374  -  449\n"
          ]
        }
      ]
    },
    {
      "cell_type": "markdown",
      "source": [
        "## Busca AEstrela\n",
        "\n",
        "O algorítmo de busca estrela fazendo um comparativo com a busca gulosa, aquele possui um resultado mais interessante do que este, isso porque além de utilizar as distâncias em linha reta usa as distâncias entre os pontos adjacentes.\n",
        "\n",
        "Quando fazemos as comparações entre dois pontos o resultado é mais satisfatório na busca A Estrela."
      ],
      "metadata": {
        "id": "t_m3inKxS1Cy"
      }
    },
    {
      "cell_type": "code",
      "source": [
        "class AEstrela:\n",
        "  def __init__(self, objetivo):\n",
        "    self.objetivo = objetivo\n",
        "    self.encontrado = False\n",
        "\n",
        "  def buscar(self, atual):\n",
        "    print('------------------')\n",
        "    print('Atual: {}'.format(atual.rotulo))\n",
        "    atual.visitado = True\n",
        "\n",
        "    if atual == self.objetivo:\n",
        "      self.encontrado = True\n",
        "    else:\n",
        "      vetor_ordenado = VetorOrdenado(len(atual.adjacentes))\n",
        "      for adjacente in atual.adjacentes:\n",
        "        if adjacente.vertice.visitado == False:\n",
        "          # Para não revisitar o nó atribuímos o True\n",
        "          adjacente.vertice.visitado = True\n",
        "          vetor_ordenado.insere(adjacente)\n",
        "      vetor_ordenado.imprime()\n",
        "\n",
        "      if vetor_ordenado.valores[0] != None:\n",
        "        self.buscar(vetor_ordenado.valores[0].vertice)"
      ],
      "metadata": {
        "id": "pmqkEcm1OlUN"
      },
      "execution_count": 59,
      "outputs": []
    },
    {
      "cell_type": "code",
      "source": [
        "busca_aestrela = AEstrela(grafo.bucharest)\n",
        "busca_aestrela.buscar(grafo.arad)"
      ],
      "metadata": {
        "colab": {
          "base_uri": "https://localhost:8080/"
        },
        "id": "ILz4HI3yOnKM",
        "outputId": "942eedb4-abc6-4f57-d81b-9d542bd68884"
      },
      "execution_count": 60,
      "outputs": [
        {
          "output_type": "stream",
          "name": "stdout",
          "text": [
            "------------------\n",
            "Atual: Arad\n",
            "0  -  Sibiu  -  140  -  253  -  393\n",
            "1  -  Timisoara  -  118  -  329  -  447\n",
            "2  -  Zerind  -  75  -  374  -  449\n",
            "------------------\n",
            "Atual: Sibiu\n",
            "0  -  Rimnicu  -  80  -  193  -  273\n",
            "1  -  Fagaras  -  99  -  178  -  277\n",
            "2  -  Oradea  -  151  -  380  -  531\n",
            "------------------\n",
            "Atual: Rimnicu\n",
            "0  -  Pitesti  -  97  -  98  -  195\n",
            "1  -  Craiova  -  146  -  160  -  306\n",
            "------------------\n",
            "Atual: Pitesti\n",
            "0  -  Bucharest  -  101  -  0  -  101\n",
            "------------------\n",
            "Atual: Bucharest\n"
          ]
        }
      ]
    }
  ]
}