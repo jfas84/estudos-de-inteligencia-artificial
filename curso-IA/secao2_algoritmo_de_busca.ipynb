{
  "nbformat": 4,
  "nbformat_minor": 0,
  "metadata": {
    "colab": {
      "provenance": [],
      "authorship_tag": "ABX9TyMnfLf8pRO+9wkSz8Go3BpI",
      "include_colab_link": true
    },
    "kernelspec": {
      "name": "python3",
      "display_name": "Python 3"
    },
    "language_info": {
      "name": "python"
    }
  },
  "cells": [
    {
      "cell_type": "markdown",
      "metadata": {
        "id": "view-in-github",
        "colab_type": "text"
      },
      "source": [
        "<a href=\"https://colab.research.google.com/github/jfas84/estudos-de-inteligencia-artificial/blob/main/curso-IA/secao2_algoritmo_de_busca.ipynb\" target=\"_parent\"><img src=\"https://colab.research.google.com/assets/colab-badge.svg\" alt=\"Open In Colab\"/></a>"
      ]
    },
    {
      "cell_type": "markdown",
      "source": [
        "# Teoria sobre buscas\n",
        "\n",
        "Na teoria de busca existe o espaço de estados que são todas as possibilidades possíveis, a medida que movemos as possibilidades outras irão surgindo.\n",
        "\n",
        "# Heurísticas\n",
        "\n",
        "Em alguns casos não é possível verificar todas as possibilidades de buscas, por exemplo no caso de um jogo de xadrez há a possibilidade de ter 10**56 jogadas, isso é superior ao número de elétros no universo, impossibilitando um computador de conseguir calcular tamanha probabilidade.\n",
        "\n",
        "Para isso existe as heurísticas.\n",
        "\n",
        "Ela indica as escolhas que a máquina deve priorizar.\n",
        "\n",
        "Uma possibilidade para escolhas de rotas usando a heurística é verificar a distância em linha reta de cada ponto até o ponto que se deseja chegar.\n",
        "\n",
        "\n",
        "# Vetores ordenados\n",
        "\n",
        "O vetor ordenado é a ordenação do menor para o maior, dessa forma qualquer elemento adicionado a determinada lista entra para a ordenação no seu local correspondente do menor para o maior.\n",
        "\n",
        "Link para visualização on-line \n",
        "\n",
        "https://www.cs.usfca.edu/~galles/visualization/Search.html\n",
        "\n",
        "https://www.cs.usfca.edu/~galles/visualization/Algorithms.html\n",
        "\n",
        "Para ver de forma mais simples como funciona o esse tipo e outros de algorítmos.\n",
        "\n",
        "\n",
        "\n"
      ],
      "metadata": {
        "id": "LCRtwhoLHMm-"
      }
    },
    {
      "cell_type": "code",
      "execution_count": 1,
      "metadata": {
        "id": "WR39ykTrHKTQ"
      },
      "outputs": [],
      "source": [
        "# Importo a biblioteca numpy\n",
        "\n",
        "import numpy as np"
      ]
    },
    {
      "cell_type": "code",
      "source": [
        "class VetorOrdenado:\n",
        "  \n",
        "  def __init__(self, capacidade):\n",
        "    self.capacidade = capacidade\n",
        "    # A última posição recebe -1, porque se o array tiver uma única posição essa\n",
        "    # posição terá o valor zero, por isso temos que atribuir o valor -1\n",
        "    self.ultima_posicao = -1\n",
        "    # O array recebe a capacidade do tipo inteiro.\n",
        "    self.valores = np.empty(self.capacidade, dtype=int)\n",
        "\n",
        "  # O(n)\n",
        "  def imprime(self):\n",
        "    # verifica se o vetor está vazio, caso contrário faz um laço para percorrer todas as posições\n",
        "    # apresentando o índice e a posição.\n",
        "    if self.ultima_posicao == -1:\n",
        "      print('O vetor está vazio')\n",
        "    else:\n",
        "      for i in range(self.ultima_posicao + 1):\n",
        "        print(i, ' - ', self.valores[i])\n",
        "\n",
        "  # variável valor recebe o parâmentro que queremos inserir\n",
        "  def insere(self, valor):\n",
        "    # o se verifica se a capacidade máxima foi atingida.\n",
        "    if self.ultima_posicao == self.capacidade - 1:\n",
        "      print('Capacidade máxima atingida')\n",
        "      return\n",
        "\n",
        "    # variável posição com valor inicial zero\n",
        "    posicao = 0\n",
        "    \"\"\"\n",
        "    Aqui faço a busca para verificar qual a posição do valor na lista que é maior\n",
        "    que o valor que foi passado para o usuário.\n",
        "    Função simples que faz um laço que percorre todo o array até a última posição.\n",
        "    Quando o laço percorre as posições, atribui para a variável posição o valor de i.\n",
        "    Se o valor do array na posição i for maior que o valor fornecido pelo usuário a\n",
        "    função executa o break e a variável posição estará será o indice onde a variável\n",
        "    no array é maior que o valor fornecido pelo usuário.\n",
        "\n",
        "    Na última posição é preciso inserir mais um if caso a última posição seja igual\n",
        "    igual o valor da variável i.\n",
        "    \"\"\"\n",
        "    for i in range(self.ultima_posicao + 1):\n",
        "      posicao = i\n",
        "      if self.valores[i] > valor:\n",
        "        break # aqui encontramos a posição\n",
        "      if i == self.ultima_posicao:\n",
        "        posicao = i + 1\n",
        "\n",
        "    \"\"\"\n",
        "    Aqui é a nova ordenação, após ser encontrado o local onde o valor na lista\n",
        "    é maior que o valor fornecido pelo usuário, temos que acrescentar esse dado\n",
        "    na lista.\n",
        "    Criei a variável x que recebe a ultima posição do array.\n",
        "    Foi feito um laço para inserir no array os valores, porém de tráz para frente.\n",
        "    Dessa forma será possível inserir um valor na posição correta.\n",
        "    \"\"\"\n",
        "    # Recebe a última posição ex.: 10\n",
        "    x = self.ultima_posicao\n",
        "    # enquanto x for maior ou igual que a posição faça:\n",
        "    while x >= posicao:\n",
        "      # array na posição 10+1 recebe o dado no array na posição 10, logo está sendo\n",
        "      # escrito novamente o array acrescentando mais uma posição até a posição onde \n",
        "      # deve ser inserido o valor informado pelo usuário.\n",
        "      self.valores[x + 1] = self.valores[x]\n",
        "      # decremento\n",
        "      x -= 1\n",
        "    # Aqui insiro o valor informado pelo usuário na posição verificada\n",
        "    self.valores[posicao] = valor\n",
        "    # Aqui acrescento mais um item no contador ultima_posição\n",
        "    self.ultima_posicao += 1\n",
        "\n",
        "    \"\"\"\n",
        "    Exemplo até o momento.\n",
        "    array = [1,2,3,4,5,6,7,9,10]\n",
        "    posic = [0,1,2,3,4,5,6,7,8]\n",
        "    valor = 8\n",
        "    ultima_posicao = 8\n",
        "\n",
        "    O valor deve entrar na posição 7.\n",
        "\n",
        "    enquanto 8 >= 7 faça:\n",
        "    array[8+1] = array[8] \"10\"\n",
        "    8 -= 1\n",
        "\n",
        "    array[7+1] = array[7] \"9\"\n",
        "    7 -= 1\n",
        "    parou\n",
        "\n",
        "    array[7] = 8\n",
        "    ultima_posicao += 1 => 8+1 = 9\n",
        "\n",
        "    array = [1,2,3,4,5,6,7,8,9,10]\n",
        "    \"\"\"\n",
        "\n",
        "  # O(n)\n",
        "  def pesquisa_linear(self, valor):\n",
        "    for i in range(self.ultima_posicao + 1):\n",
        "      if self.valores[i] > valor:\n",
        "        return -1\n",
        "      if self.valores[i] == valor:\n",
        "        return i\n",
        "      if i == self.ultima_posicao:\n",
        "        return -1\n",
        "\n",
        "  # O(log n)\n",
        "  def pesquisa_binaria(self, valor):\n",
        "    limite_inferior = 0\n",
        "    limite_superior = self.ultima_posicao\n",
        "\n",
        "    while True:\n",
        "      posicao_atual = int((limite_inferior + limite_superior) / 2)\n",
        "      # Se achou na primeira tentativa\n",
        "      if self.valores[posicao_atual] == valor:\n",
        "        return posicao_atual\n",
        "      # Se não achou\n",
        "      elif limite_inferior > limite_superior:\n",
        "        return -1\n",
        "      # Divide os limites\n",
        "      else:\n",
        "        # Limite inferior\n",
        "        if self.valores[posicao_atual] < valor:\n",
        "          limite_inferior = posicao_atual + 1\n",
        "        # Limite superior\n",
        "        else:\n",
        "          limite_superior = posicao_atual - 1\n",
        "\n",
        "  # O(n)\n",
        "  def excluir(self, valor):\n",
        "    posicao = self.pesquisar(valor)\n",
        "    if posicao == -1:\n",
        "      return -1\n",
        "    else:\n",
        "      for i in range(posicao, self.ultima_posicao):\n",
        "        self.valores[i] = self.valores[i + 1]\n",
        "      \n",
        "      self.ultima_posicao -= 1"
      ],
      "metadata": {
        "id": "dNO7eQh2vHY2"
      },
      "execution_count": 2,
      "outputs": []
    },
    {
      "cell_type": "code",
      "source": [
        "vetor = VetorOrdenado(10)\n",
        "vetor.imprime()"
      ],
      "metadata": {
        "colab": {
          "base_uri": "https://localhost:8080/"
        },
        "id": "QRRdFdCQvKyU",
        "outputId": "e4fb7e37-1e1a-4b1e-ebdb-2caad293ce6b"
      },
      "execution_count": 3,
      "outputs": [
        {
          "output_type": "stream",
          "name": "stdout",
          "text": [
            "O vetor está vazio\n"
          ]
        }
      ]
    },
    {
      "cell_type": "code",
      "source": [
        "vetor.insere(6)\n",
        "vetor.imprime()"
      ],
      "metadata": {
        "colab": {
          "base_uri": "https://localhost:8080/"
        },
        "id": "JSJoAwf2vMqW",
        "outputId": "ce96b9fb-4c1a-48cb-8133-0134048daede"
      },
      "execution_count": 4,
      "outputs": [
        {
          "output_type": "stream",
          "name": "stdout",
          "text": [
            "0  -  6\n"
          ]
        }
      ]
    },
    {
      "cell_type": "code",
      "source": [
        "vetor.insere(4)\n",
        "vetor.imprime()"
      ],
      "metadata": {
        "colab": {
          "base_uri": "https://localhost:8080/"
        },
        "id": "1nsALbnEvOKS",
        "outputId": "977c1bcf-6b4c-4d72-d416-ff704681c661"
      },
      "execution_count": 5,
      "outputs": [
        {
          "output_type": "stream",
          "name": "stdout",
          "text": [
            "0  -  4\n",
            "1  -  6\n"
          ]
        }
      ]
    },
    {
      "cell_type": "code",
      "source": [
        "vetor.insere(3)\n",
        "vetor.imprime()"
      ],
      "metadata": {
        "colab": {
          "base_uri": "https://localhost:8080/"
        },
        "id": "CtqTJpUWvOxC",
        "outputId": "2fbebb29-4739-4323-8516-853a0f736fef"
      },
      "execution_count": 6,
      "outputs": [
        {
          "output_type": "stream",
          "name": "stdout",
          "text": [
            "0  -  3\n",
            "1  -  4\n",
            "2  -  6\n"
          ]
        }
      ]
    },
    {
      "cell_type": "code",
      "source": [
        "vetor.insere(5)\n",
        "vetor.imprime()"
      ],
      "metadata": {
        "colab": {
          "base_uri": "https://localhost:8080/"
        },
        "id": "cSi4gaAxvQuO",
        "outputId": "63e8afaa-d7f3-4b8d-9d1a-a93b69f0e9b8"
      },
      "execution_count": 7,
      "outputs": [
        {
          "output_type": "stream",
          "name": "stdout",
          "text": [
            "0  -  3\n",
            "1  -  4\n",
            "2  -  5\n",
            "3  -  6\n"
          ]
        }
      ]
    },
    {
      "cell_type": "code",
      "source": [
        "vetor.insere(1)\n",
        "vetor.imprime()"
      ],
      "metadata": {
        "colab": {
          "base_uri": "https://localhost:8080/"
        },
        "id": "6QWtsvmjvSZQ",
        "outputId": "8a317080-a2ca-4a2d-c061-468f4f8789bb"
      },
      "execution_count": 8,
      "outputs": [
        {
          "output_type": "stream",
          "name": "stdout",
          "text": [
            "0  -  1\n",
            "1  -  3\n",
            "2  -  4\n",
            "3  -  5\n",
            "4  -  6\n"
          ]
        }
      ]
    },
    {
      "cell_type": "code",
      "source": [
        "vetor.insere(8)\n",
        "vetor.imprime()"
      ],
      "metadata": {
        "colab": {
          "base_uri": "https://localhost:8080/"
        },
        "id": "ubELCsUdvUw2",
        "outputId": "fa664216-2bea-46fc-9a2d-1f84f8e98955"
      },
      "execution_count": 9,
      "outputs": [
        {
          "output_type": "stream",
          "name": "stdout",
          "text": [
            "0  -  1\n",
            "1  -  3\n",
            "2  -  4\n",
            "3  -  5\n",
            "4  -  6\n",
            "5  -  8\n"
          ]
        }
      ]
    },
    {
      "cell_type": "code",
      "source": [
        "vetor.pesquisar(3)"
      ],
      "metadata": {
        "id": "87s6Ceg4vXdp"
      },
      "execution_count": null,
      "outputs": []
    },
    {
      "cell_type": "code",
      "source": [
        "vetor.pesquisar(2)"
      ],
      "metadata": {
        "id": "gphAjZegvbmc"
      },
      "execution_count": null,
      "outputs": []
    },
    {
      "cell_type": "code",
      "source": [
        "vetor.pesquisar(9)"
      ],
      "metadata": {
        "id": "9zSyWOWHvel2"
      },
      "execution_count": null,
      "outputs": []
    },
    {
      "cell_type": "code",
      "source": [
        "vetor.imprime()"
      ],
      "metadata": {
        "id": "7NS_v3qBvgfM"
      },
      "execution_count": null,
      "outputs": []
    },
    {
      "cell_type": "code",
      "source": [
        "vetor.excluir(5)\n",
        "vetor.imprime()"
      ],
      "metadata": {
        "id": "6ebrvbCNvkGg"
      },
      "execution_count": null,
      "outputs": []
    },
    {
      "cell_type": "code",
      "source": [
        "vetor.excluir(1)\n",
        "vetor.imprime()"
      ],
      "metadata": {
        "id": "R9J4ZnBIvmHe"
      },
      "execution_count": null,
      "outputs": []
    },
    {
      "cell_type": "code",
      "source": [
        "vetor.excluir(8)\n",
        "vetor.imprime()"
      ],
      "metadata": {
        "id": "gEKoDOBbvpjL"
      },
      "execution_count": null,
      "outputs": []
    },
    {
      "cell_type": "code",
      "source": [
        "vetor.excluir(9)"
      ],
      "metadata": {
        "id": "60xQUoSgvrX6"
      },
      "execution_count": null,
      "outputs": []
    },
    {
      "cell_type": "code",
      "source": [
        "vetor = VetorOrdenado(10)\n",
        "vetor.insere(8)\n",
        "vetor.insere(9)\n",
        "vetor.insere(4)\n",
        "vetor.insere(1)\n",
        "vetor.insere(5)\n",
        "vetor.insere(7)\n",
        "vetor.insere(11)\n",
        "vetor.insere(13)\n",
        "vetor.insere(2)\n",
        "vetor.imprime()"
      ],
      "metadata": {
        "id": "iNcz4Kg7vtFj"
      },
      "execution_count": null,
      "outputs": []
    },
    {
      "cell_type": "code",
      "source": [
        "vetor.pesquisa_binaria(7)"
      ],
      "metadata": {
        "id": "sENhuhrMvvFb"
      },
      "execution_count": null,
      "outputs": []
    },
    {
      "cell_type": "code",
      "source": [
        "vetor.pesquisa_binaria(5)"
      ],
      "metadata": {
        "id": "m9bhJGXtvwxB"
      },
      "execution_count": null,
      "outputs": []
    },
    {
      "cell_type": "code",
      "source": [
        "vetor.pesquisa_binaria(13)"
      ],
      "metadata": {
        "id": "ou9S5v_YvySH"
      },
      "execution_count": null,
      "outputs": []
    },
    {
      "cell_type": "code",
      "source": [
        "vetor.pesquisa_binaria(20)"
      ],
      "metadata": {
        "id": "6s-NEDLvv0Ze"
      },
      "execution_count": null,
      "outputs": []
    }
  ]
}