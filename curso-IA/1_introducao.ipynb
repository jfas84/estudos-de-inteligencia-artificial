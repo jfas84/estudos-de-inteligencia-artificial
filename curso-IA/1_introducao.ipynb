{
  "nbformat": 4,
  "nbformat_minor": 0,
  "metadata": {
    "colab": {
      "provenance": [],
      "authorship_tag": "ABX9TyPxKY9Mhln4+mBFbw84+lhu",
      "include_colab_link": true
    },
    "kernelspec": {
      "name": "python3",
      "display_name": "Python 3"
    },
    "language_info": {
      "name": "python"
    }
  },
  "cells": [
    {
      "cell_type": "markdown",
      "metadata": {
        "id": "view-in-github",
        "colab_type": "text"
      },
      "source": [
        "<a href=\"https://colab.research.google.com/github/jfas84/estudos-de-inteligencia-artificial/blob/main/curso-IA/1_introducao.ipynb\" target=\"_parent\"><img src=\"https://colab.research.google.com/assets/colab-badge.svg\" alt=\"Open In Colab\"/></a>"
      ]
    },
    {
      "cell_type": "markdown",
      "source": [
        "# Divisão do curso\n",
        "\n",
        "## Parte 1 - Algoritmos de busca\n",
        "* Busca gulosa\n",
        "* Busca A Estrla\n",
        "\n",
        "## Parte 2 - Algoritmos de otimização\n",
        "* Hill climb\n",
        "* Simulated annealing\n",
        "* Algoritmo genético\n",
        "\n",
        "## Parte 3 - Lógica fuzzy\n",
        "\n",
        "## Parte 4 - Machine learning\n",
        "* Classificação\n",
        "* Regressão\n",
        "* Agrupamento\n",
        "* Associação\n",
        "* Tópicos Complementares\n",
        "* Visualização\n",
        "* Aprendizagem por reforço\n",
        "\n",
        "## Parte 5 - Redes neurais e deep learning\n",
        "* Redes neurais artificiais\n",
        "* Redes neurais convolucionais\n",
        "\n",
        "## Parte 6 - Processamento de linguagem natural\n",
        "* Marcação POS\n",
        "* Lematização e stemização\n",
        "* Busca em textos\n",
        "* Extração de entidades\n",
        "* Nuvem de palavras\n",
        "* Mineração de sentimentos\n",
        "\n",
        "## Parte 7 - Visão computacional\n",
        "* Detectação de faces\n",
        "* Reconhecimento facial\n",
        "* Rastreamento de objetos\n",
        "\n",
        "## Parte 8 - Sistemas multiagente\n",
        "* Comunicação entre agentes\n",
        "\n",
        "## Parte 9 - Outras áreas de IA\n",
        "* Sistemas especialistas\n",
        "* GPS (general problem solver)\n",
        "* Redes bayesianas\n",
        "* Raciocínio baseado em casos\n",
        "\n"
      ],
      "metadata": {
        "id": "OoXzEACvHmMe"
      }
    },
    {
      "cell_type": "markdown",
      "source": [
        "# Redes Neurais Artificiais - Introdução\n",
        "\n",
        "## Conceitos iniciais\n",
        "\n",
        "Redes neurais artificiais são modelos computacionais inspirados no sistema nervoso de seres vivos.\n",
        "\n",
        "## Características principais\n",
        "\n",
        "- Adaptação por experiência;\n",
        "- Capacidade de aprendizado;\n",
        "- Habilidade de generalização;\n",
        "- Organização de dados;\n",
        "- Tolerância a falhas;\n",
        "- Armazenamento distribuído;\n",
        "- Facilidade de prototipagem.\n",
        "\n",
        "## Potenciais áreas de aplicações\n",
        "\n",
        "Podem ser empregadas em diversos problemas relacionados às engenharia e ciências, as potenciais áreas de aplicações podem ser enquadradas em:\n",
        "\n",
        "- Aproximador universal de funções;\n",
        "- Controle de processos;\n",
        "- Reconhecimento/classificações de padrões;\n",
        "- Agrupamento de dados (clusterização);\n",
        "- Sistema de previsão;\n",
        "- Otimização de sistemas;\n",
        "- Memórias associativas\n",
        "\n",
        "## Neurônio artificial\n",
        "\n",
        "Os neurônios artificiais utilizados nos modelos de redes neurais artifificiais são não lineares, fornecem saídas tipicamente contínuas, e realizam funções simples, como coletar os sinais existentes em suas entradas, agregá-los de acordo com sua função operacional e produzir uma resposta, levando em consideração sua função de ativação inerente.\n",
        "\n",
        "### Funcionamento do neurônio artificial\n",
        "\n",
        "O neurônio artificial funciona a partir de sete elementos básicos:\n",
        "\n",
        "- Sinais de entrada: x1, x2, x3, ... xn\n",
        "- Pesos sinápticos: w1, w2, ... wn\n",
        "- Combinador linear: Agrega todos os sinais de entrada.\n",
        "- Limiar de ativação\n",
        "- Potencial de ativação\n",
        "- Função de ativação\n",
        "- Sinal de saída\n",
        "\n",
        "Podemos resumir o funcionamento de um neurônio artificial por meio dos seguintes passo:\n",
        "\n",
        "- Apresentação de um conjunto de valores que representam as variáveis de entrada do neurônio;\n",
        "- Multiplicação de cada entrada do neurônio pelo seu respectivo peso sináptico;\n",
        "- Obtenção do potencial de ativação produzido pela soma ponderada dos sinais de entrada, subtraindo-se o limiar de ativação;\n",
        "- Aplicação de uma função apropriada, tendo-se como objetivo limitar a saída do neurônio;\n",
        "- Compilação de saída a partir da aplicação da função de ativação neural em relação ao seu potencial de ativação."
      ],
      "metadata": {
        "id": "6R0Cxxz5-J64"
      }
    }
  ]
}