{
  "nbformat": 4,
  "nbformat_minor": 0,
  "metadata": {
    "colab": {
      "provenance": [],
      "authorship_tag": "ABX9TyPcJMP7xQSUQs/dfkIGJD4j",
      "include_colab_link": true
    },
    "kernelspec": {
      "name": "python3",
      "display_name": "Python 3"
    },
    "language_info": {
      "name": "python"
    }
  },
  "cells": [
    {
      "cell_type": "markdown",
      "metadata": {
        "id": "view-in-github",
        "colab_type": "text"
      },
      "source": [
        "<a href=\"https://colab.research.google.com/github/jfas84/estudos-de-inteligencia-artificial/blob/main/curso-IA/1_introducao.ipynb\" target=\"_parent\"><img src=\"https://colab.research.google.com/assets/colab-badge.svg\" alt=\"Open In Colab\"/></a>"
      ]
    },
    {
      "cell_type": "markdown",
      "source": [
        "# Divisão do curso\n",
        "\n",
        "## Parte 1 - Algoritmos de busca\n",
        "* Busca gulosa\n",
        "* Busca A Estrla\n",
        "\n",
        "## Parte 2 - Algoritmos de otimização\n",
        "* Hill climb\n",
        "* Simulated annealing\n",
        "* Algoritmo genético\n",
        "\n",
        "## Parte 3 - Lógica fuzzy\n",
        "\n",
        "## Parte 4 - Machine learning\n",
        "* Classificação\n",
        "* Regressão\n",
        "* Agrupamento\n",
        "* Associação\n",
        "* Tópicos Complementares\n",
        "* Visualização\n",
        "* Aprendizagem por reforço\n",
        "\n",
        "## Parte 5 - Redes neurais e deep learning\n",
        "* Redes neurais artificiais\n",
        "* Redes neurais convolucionais\n",
        "\n",
        "## Parte 6 - Processamento de linguagem natural\n",
        "* Marcação POS\n",
        "* Lematização e stemização\n",
        "* Busca em textos\n",
        "* Extração de entidades\n",
        "* Nuvem de palavras\n",
        "* Mineração de sentimentos\n",
        "\n",
        "## Parte 7 - Visão computacional\n",
        "* Detectação de faces\n",
        "* Reconhecimento facial\n",
        "* Rastreamento de objetos\n",
        "\n",
        "## Parte 8 - Sistemas multiagente\n",
        "* Comunicação entre agentes\n",
        "\n",
        "## Parte 9 - Outras áreas de IA\n",
        "* Sistemas especialistas\n",
        "* GPS (general problem solver)\n",
        "* Redes bayesianas\n",
        "* Raciocínio baseado em casos\n",
        "\n"
      ],
      "metadata": {
        "id": "OoXzEACvHmMe"
      }
    },
    {
      "cell_type": "code",
      "execution_count": null,
      "metadata": {
        "id": "2kcQ9T6NFwNx"
      },
      "outputs": [],
      "source": []
    }
  ]
}